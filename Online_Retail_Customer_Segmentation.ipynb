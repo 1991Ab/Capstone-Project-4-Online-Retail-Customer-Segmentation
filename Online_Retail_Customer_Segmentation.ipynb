{
  "nbformat": 4,
  "nbformat_minor": 0,
  "metadata": {
    "colab": {
      "provenance": [],
      "gpuType": "T4",
      "authorship_tag": "ABX9TyNuxLGd9tUaIjOuawQIkNkv",
      "include_colab_link": true
    },
    "kernelspec": {
      "name": "python3",
      "display_name": "Python 3"
    },
    "language_info": {
      "name": "python"
    },
    "accelerator": "GPU"
  },
  "cells": [
    {
      "cell_type": "markdown",
      "metadata": {
        "id": "view-in-github",
        "colab_type": "text"
      },
      "source": [
        "<a href=\"https://colab.research.google.com/github/1991Ab/Capstone-Project-4-Online-Retail-Customer-Segmentation/blob/main/Online_Retail_Customer_Segmentation.ipynb\" target=\"_parent\"><img src=\"https://colab.research.google.com/assets/colab-badge.svg\" alt=\"Open In Colab\"/></a>"
      ]
    },
    {
      "cell_type": "markdown",
      "source": [
        "# **Project Name**    -  **Online Retail Customer Segmentation**\n",
        "\n"
      ],
      "metadata": {
        "id": "ILM16xV1PD8m"
      }
    },
    {
      "cell_type": "markdown",
      "metadata": {
        "id": "pIGIeZfeos9T"
      },
      "source": [
        "**Project Type**    - Unsupervised\n",
        "\n",
        "**Contribution**    - Team\n",
        "\n",
        "**Team Member 1**- Bharat Kumar Soni\n",
        "\n",
        "**Team Member 2**- Abhilasha \n"
      ]
    },
    {
      "cell_type": "markdown",
      "source": [
        "<p align=\"center\">\n",
        "  <img \n",
        "    src = \"https://cdn.dribbble.com/users/506824/screenshots/1670206/media/71471d476effd234809de88eabd6229b.gif\" width=\"1200\" height=\"500\"/>\n",
        "</p>"
      ],
      "metadata": {
        "id": "jSWV-fdSmkRl"
      }
    },
    {
      "cell_type": "markdown",
      "metadata": {
        "id": "SGkPmjMPuesc"
      },
      "source": [
        "# **Project Summary -**"
      ]
    },
    {
      "cell_type": "markdown",
      "source": [
        "Before going into the definition of customer segmentation, let us take a look at how online retail works and how the associated data would look like. When a person goes into a retail store and purchases a few items, the following basic data points should be generated:\n",
        "\n",
        "• Customer Name/Customer ID\n",
        "\n",
        "• Address/Contact number of the customer (Demographic information)\n",
        "\n",
        "• Invoice number\n",
        "\n",
        "• Product name and product code\n",
        "\n",
        "• Quantity\n",
        "\n",
        "• Unit Price\n",
        "\n",
        "• Date and time of the transaction\n",
        "\n",
        "• Coupon Code (if applicable)\n",
        "\n",
        "• Discount amount (if applicable)\n",
        "\n",
        "Now that we have developed a basic idea about how retail data looks like, let us think about how a company should think in order to make effective marketing policies.\n",
        "\n",
        "One axiom frequently used in business and economics is the Pareto principle. This can be applied to understanding the revenue stream of a company as well.\n",
        "\n",
        "***As per the Pareto Principle, 80% of outcomes result from 20% of all the causes of any given event.***\n",
        "\n",
        "In business terms, we can say that 20% of customers contribute 80% share of the total revenue of a company. That’s why finding this set of people is important.\n",
        "\n",
        "### **Understanding Customer Segmentation**\n",
        "\n",
        "• Customer segmentation is the process of separating a company's customers into groups based on their shared characteristics. The purpose of customer segmentation is to determine how to relate to customers in each category in order to optimize each customer's value to the company. \n",
        "\n",
        "• Customer segmentation has the ability to help marketers reach out to each customer in the most efficient way possible. A customer segmentation study uses the huge quantity of data available on customers (and future customers) to identify distinct groups of consumers with a high degree of accuracy based on demographic, behavioural, and other characteristics.\n",
        "\n",
        "• Insights from customer segmentation are used to develop tailor-made marketing campaigns and for designing overall marketing strategy and planning.\n",
        "\n",
        "• To conclude, we saw how we can segment our customer depending on our business requirements. You can perform RFM for your entire customer base, or just a subset. For example, you may first segment customers based on a geographical area or other demographics, and then by RFM for historical, transaction-based behaviour segments.\n",
        "\n",
        "• RFM analysis can help in answering many questions with respect to their customers and this can help companies to make marketing strategies for their customers, retaining their slipping customers and providing recommendations to their customer based on their interest. We used the K-means algorithm to segment our customer in various clusters having similar similarity. I think K-means did a pretty good job here.\n",
        "\n"
      ],
      "metadata": {
        "id": "9YSt9kMdufXE"
      }
    },
    {
      "cell_type": "markdown",
      "metadata": {
        "id": "oUZtmEXe4axS"
      },
      "source": [
        "##**Project/Colab Overview**\n",
        "\n",
        "• Feature summary \n",
        "\n",
        "• Insights from our Dataset\n",
        "\n",
        "• Analysis on unique values in each column\n",
        "\n",
        "• Analysis on top Country\n",
        "\n",
        "• Analysis on top products\n",
        "\n",
        "• Analysis on  cancelled order\n",
        "\n",
        "• Distribution\n",
        "\n",
        "• Analysis on Customer data\n",
        "\n",
        "• Analysis of  Negative Quantities\n",
        "\n",
        "• RFM MODEL \n",
        "\n",
        "• Recency \n",
        "\n",
        "• Frequency \n",
        "\n",
        "• Monetary\n",
        "\n",
        "• QQ Plot on R-M-F\n",
        "\n",
        "• Outlier treatment (IQR Process)\n",
        "\n",
        "• Modelling \n",
        "\n",
        "• K-Means clustering\n",
        "\n",
        "• Silhouette  Analysis \n",
        "\n",
        "• Elbow method\n",
        "\n",
        "• Box plot on R-F-M\n",
        "\n",
        "• Hierarchical clustering\n",
        "\n",
        "• 3-D visualization on R-F-M\n",
        "\n",
        "• Challenges\n",
        "\n",
        "• Solution to Business Objective\n",
        "\n",
        "• Conclusion "
      ]
    },
    {
      "cell_type": "markdown",
      "source": [
        "# **Problem Statement**\n"
      ],
      "metadata": {
        "id": "yQaldy8SH6Dl"
      }
    },
    {
      "cell_type": "markdown",
      "source": [
        "\n",
        "In this project, our task is to identify major customer segments on a transnational data set which contains all the transactions occurring between 01/12/2010 and 09/12/2011 for a UK-based and registered non-store online retail.The company mainly sells unique all-occasion gifts. Many customers of the company are wholesalers."
      ],
      "metadata": {
        "id": "VypVhZntdBZN"
      }
    },
    {
      "cell_type": "markdown",
      "source": [
        "**BUSINESS PROBLEM OVERVIEW**\n",
        "\n"
      ],
      "metadata": {
        "id": "jivUA-ONOwse"
      }
    },
    {
      "cell_type": "markdown",
      "source": [
        "The goal of this job is to use cluster analysis to identify important consumer categories in a transnational data set that encompasses all transactions for a UK-based and registered non-store internet retailer over a specific time period"
      ],
      "metadata": {
        "id": "k8WWVW7wdD6P"
      }
    },
    {
      "cell_type": "markdown",
      "source": [
        "# **Github Link-**"
      ],
      "metadata": {
        "id": "VXc4LoE4TaxR"
      }
    },
    {
      "cell_type": "markdown",
      "source": [],
      "metadata": {
        "id": "3Pq8JPeJTovk"
      }
    },
    {
      "cell_type": "markdown",
      "source": [
        "# **General Guidelines** : -  "
      ],
      "metadata": {
        "id": "mDgbUHAGgjLW"
      }
    },
    {
      "cell_type": "markdown",
      "source": [
        "1.   Well-structured, formatted, and commented code is required. \n",
        "2.   Exception Handling, Production Grade Code & Deployment Ready Code will be a plus. Those students will be awarded some additional credits. \n",
        "     \n",
        "     The additional credits will have advantages over other students during Star Student selection.\n",
        "       \n",
        "             [ Note: - Deployment Ready Code is defined as, the whole .ipynb notebook should be executable in one go\n",
        "                       without a single error logged. ]\n",
        "\n",
        "3.   Each and every logic should have proper comments.\n",
        "4. You may add as many number of charts you want. Make Sure for each and every chart the following format should be answered.\n",
        "        \n",
        "\n",
        "```\n",
        "# Chart visualization code\n",
        "```\n",
        "            \n",
        "\n",
        "*   Why did you pick the specific chart?\n",
        "*   What is/are the insight(s) found from the chart?\n",
        "* Will the gained insights help creating a positive business impact? \n",
        "Are there any insights that lead to negative growth? Justify with specific reason.\n",
        "\n",
        "5. You have to create at least 15 logical & meaningful charts having important insights.\n",
        "\n",
        "\n",
        "[ Hints : - Do the Vizualization in  a structured way while following \"UBM\" Rule. \n",
        "\n",
        "U - Univariate Analysis,\n",
        "\n",
        "B - Bivariate Analysis (Numerical - Categorical, Numerical - Numerical, Categorical - Categorical)\n",
        "\n",
        "M - Multivariate Analysis\n",
        " ]\n",
        "\n",
        "\n",
        "\n",
        "\n",
        "\n",
        "6. You may add more ml algorithms for model creation. Make sure for each and every algorithm, the following format should be answered.\n",
        "\n",
        "\n",
        "*   Explain the ML Model used and it's performance using Evaluation metric Score Chart.\n",
        "\n",
        "\n",
        "*   Cross- Validation & Hyperparameter Tuning\n",
        "\n",
        "*   Have you seen any improvement? Note down the improvement with updates Evaluation metric Score Chart.\n",
        "\n",
        "*   Explain each evaluation metric's indication towards business and the business impact pf the ML model used.\n",
        "\n",
        "\n",
        "\n",
        "\n",
        "\n",
        "\n",
        "\n",
        "\n",
        "\n",
        "\n",
        "\n",
        "\n",
        "\n",
        "\n",
        "\n",
        "\n",
        "\n",
        "\n"
      ],
      "metadata": {
        "id": "ZrxVaUj-hHfC"
      }
    },
    {
      "cell_type": "markdown",
      "source": [],
      "metadata": {
        "id": "OGYCUD6CXff5"
      }
    },
    {
      "cell_type": "code",
      "source": [
        "import numpy as np\n",
        "import pandas as pd\n",
        "import seaborn as sns\n",
        "import matplotlib.pyplot as plt\n",
        "import datetime\n",
        "import scipy\n",
        "import scipy.stats as stat\n",
        "import math\n",
        "import sklearn\n",
        "import warnings\n",
        "warnings.filterwarnings('ignore')\n",
        "\n",
        "from sklearn.datasets import make_blobs\n",
        "from sklearn.cluster import KMeans\n",
        "from sklearn.metrics import silhouette_samples, silhouette_score\n",
        "import matplotlib.cm as cm\n",
        "import plotly.express as px\n",
        "from yellowbrick.cluster import KElbowVisualizer, SilhouetteVisualizer\n",
        "from sklearn import preprocessing\n",
        "from sklearn.preprocessing import StandardScaler\n",
        "\n",
        "## Libraries for Hierarchical clustering\n",
        "from scipy.cluster.hierarchy import linkage\n",
        "from scipy.cluster.hierarchy import dendrogram\n",
        "from scipy.cluster.hierarchy import cut_tree"
      ],
      "metadata": {
        "id": "M8Vqi-pPk-HR"
      },
      "execution_count": 1,
      "outputs": []
    },
    {
      "cell_type": "markdown",
      "source": [
        "### Dataset Loading"
      ],
      "metadata": {
        "id": "3RnN4peoiCZX"
      }
    },
    {
      "cell_type": "code",
      "source": [
        "# Mounting Dataset\n",
        "from google.colab import drive\n",
        "drive.mount('/content/drive')"
      ],
      "metadata": {
        "id": "4CkvbW_SlZ_R",
        "colab": {
          "base_uri": "https://localhost:8080/"
        },
        "outputId": "8660a131-9148-43f1-900d-d7038a98f2c8"
      },
      "execution_count": 2,
      "outputs": [
        {
          "output_type": "stream",
          "name": "stdout",
          "text": [
            "Mounted at /content/drive\n"
          ]
        }
      ]
    },
    {
      "cell_type": "code",
      "source": [
        "# Importing the dataset\n",
        "df = pd.read_excel('/content/drive/MyDrive/Capstone project -4/Online Retail.xlsx')"
      ],
      "metadata": {
        "id": "CEhiayUv1809"
      },
      "execution_count": 4,
      "outputs": []
    },
    {
      "cell_type": "markdown",
      "source": [
        "### Dataset First View"
      ],
      "metadata": {
        "id": "x71ZqKXriCWQ"
      }
    },
    {
      "cell_type": "code",
      "source": [
        "# Dataset First \n",
        "df.head()"
      ],
      "metadata": {
        "id": "LWNFOSvLl09H",
        "colab": {
          "base_uri": "https://localhost:8080/",
          "height": 206
        },
        "outputId": "39123586-43d4-4cc7-cdb8-b367c97325a4"
      },
      "execution_count": 5,
      "outputs": [
        {
          "output_type": "execute_result",
          "data": {
            "text/plain": [
              "  InvoiceNo StockCode                          Description  Quantity  \\\n",
              "0    536365    85123A   WHITE HANGING HEART T-LIGHT HOLDER         6   \n",
              "1    536365     71053                  WHITE METAL LANTERN         6   \n",
              "2    536365    84406B       CREAM CUPID HEARTS COAT HANGER         8   \n",
              "3    536365    84029G  KNITTED UNION FLAG HOT WATER BOTTLE         6   \n",
              "4    536365    84029E       RED WOOLLY HOTTIE WHITE HEART.         6   \n",
              "\n",
              "           InvoiceDate  UnitPrice  CustomerID         Country  \n",
              "0               max(E)       2.55     17850.0  United Kingdom  \n",
              "1  2010-12-01 08:26:00       3.39     17850.0  United Kingdom  \n",
              "2  2010-12-01 08:26:00       2.75     17850.0  United Kingdom  \n",
              "3  2010-12-01 08:26:00       3.39     17850.0  United Kingdom  \n",
              "4  2010-12-01 08:26:00       3.39     17850.0  United Kingdom  "
            ],
            "text/html": [
              "\n",
              "  <div id=\"df-26ab8c52-ddc5-4e9a-8869-2e82f89bcd9d\">\n",
              "    <div class=\"colab-df-container\">\n",
              "      <div>\n",
              "<style scoped>\n",
              "    .dataframe tbody tr th:only-of-type {\n",
              "        vertical-align: middle;\n",
              "    }\n",
              "\n",
              "    .dataframe tbody tr th {\n",
              "        vertical-align: top;\n",
              "    }\n",
              "\n",
              "    .dataframe thead th {\n",
              "        text-align: right;\n",
              "    }\n",
              "</style>\n",
              "<table border=\"1\" class=\"dataframe\">\n",
              "  <thead>\n",
              "    <tr style=\"text-align: right;\">\n",
              "      <th></th>\n",
              "      <th>InvoiceNo</th>\n",
              "      <th>StockCode</th>\n",
              "      <th>Description</th>\n",
              "      <th>Quantity</th>\n",
              "      <th>InvoiceDate</th>\n",
              "      <th>UnitPrice</th>\n",
              "      <th>CustomerID</th>\n",
              "      <th>Country</th>\n",
              "    </tr>\n",
              "  </thead>\n",
              "  <tbody>\n",
              "    <tr>\n",
              "      <th>0</th>\n",
              "      <td>536365</td>\n",
              "      <td>85123A</td>\n",
              "      <td>WHITE HANGING HEART T-LIGHT HOLDER</td>\n",
              "      <td>6</td>\n",
              "      <td>max(E)</td>\n",
              "      <td>2.55</td>\n",
              "      <td>17850.0</td>\n",
              "      <td>United Kingdom</td>\n",
              "    </tr>\n",
              "    <tr>\n",
              "      <th>1</th>\n",
              "      <td>536365</td>\n",
              "      <td>71053</td>\n",
              "      <td>WHITE METAL LANTERN</td>\n",
              "      <td>6</td>\n",
              "      <td>2010-12-01 08:26:00</td>\n",
              "      <td>3.39</td>\n",
              "      <td>17850.0</td>\n",
              "      <td>United Kingdom</td>\n",
              "    </tr>\n",
              "    <tr>\n",
              "      <th>2</th>\n",
              "      <td>536365</td>\n",
              "      <td>84406B</td>\n",
              "      <td>CREAM CUPID HEARTS COAT HANGER</td>\n",
              "      <td>8</td>\n",
              "      <td>2010-12-01 08:26:00</td>\n",
              "      <td>2.75</td>\n",
              "      <td>17850.0</td>\n",
              "      <td>United Kingdom</td>\n",
              "    </tr>\n",
              "    <tr>\n",
              "      <th>3</th>\n",
              "      <td>536365</td>\n",
              "      <td>84029G</td>\n",
              "      <td>KNITTED UNION FLAG HOT WATER BOTTLE</td>\n",
              "      <td>6</td>\n",
              "      <td>2010-12-01 08:26:00</td>\n",
              "      <td>3.39</td>\n",
              "      <td>17850.0</td>\n",
              "      <td>United Kingdom</td>\n",
              "    </tr>\n",
              "    <tr>\n",
              "      <th>4</th>\n",
              "      <td>536365</td>\n",
              "      <td>84029E</td>\n",
              "      <td>RED WOOLLY HOTTIE WHITE HEART.</td>\n",
              "      <td>6</td>\n",
              "      <td>2010-12-01 08:26:00</td>\n",
              "      <td>3.39</td>\n",
              "      <td>17850.0</td>\n",
              "      <td>United Kingdom</td>\n",
              "    </tr>\n",
              "  </tbody>\n",
              "</table>\n",
              "</div>\n",
              "      <button class=\"colab-df-convert\" onclick=\"convertToInteractive('df-26ab8c52-ddc5-4e9a-8869-2e82f89bcd9d')\"\n",
              "              title=\"Convert this dataframe to an interactive table.\"\n",
              "              style=\"display:none;\">\n",
              "        \n",
              "  <svg xmlns=\"http://www.w3.org/2000/svg\" height=\"24px\"viewBox=\"0 0 24 24\"\n",
              "       width=\"24px\">\n",
              "    <path d=\"M0 0h24v24H0V0z\" fill=\"none\"/>\n",
              "    <path d=\"M18.56 5.44l.94 2.06.94-2.06 2.06-.94-2.06-.94-.94-2.06-.94 2.06-2.06.94zm-11 1L8.5 8.5l.94-2.06 2.06-.94-2.06-.94L8.5 2.5l-.94 2.06-2.06.94zm10 10l.94 2.06.94-2.06 2.06-.94-2.06-.94-.94-2.06-.94 2.06-2.06.94z\"/><path d=\"M17.41 7.96l-1.37-1.37c-.4-.4-.92-.59-1.43-.59-.52 0-1.04.2-1.43.59L10.3 9.45l-7.72 7.72c-.78.78-.78 2.05 0 2.83L4 21.41c.39.39.9.59 1.41.59.51 0 1.02-.2 1.41-.59l7.78-7.78 2.81-2.81c.8-.78.8-2.07 0-2.86zM5.41 20L4 18.59l7.72-7.72 1.47 1.35L5.41 20z\"/>\n",
              "  </svg>\n",
              "      </button>\n",
              "      \n",
              "  <style>\n",
              "    .colab-df-container {\n",
              "      display:flex;\n",
              "      flex-wrap:wrap;\n",
              "      gap: 12px;\n",
              "    }\n",
              "\n",
              "    .colab-df-convert {\n",
              "      background-color: #E8F0FE;\n",
              "      border: none;\n",
              "      border-radius: 50%;\n",
              "      cursor: pointer;\n",
              "      display: none;\n",
              "      fill: #1967D2;\n",
              "      height: 32px;\n",
              "      padding: 0 0 0 0;\n",
              "      width: 32px;\n",
              "    }\n",
              "\n",
              "    .colab-df-convert:hover {\n",
              "      background-color: #E2EBFA;\n",
              "      box-shadow: 0px 1px 2px rgba(60, 64, 67, 0.3), 0px 1px 3px 1px rgba(60, 64, 67, 0.15);\n",
              "      fill: #174EA6;\n",
              "    }\n",
              "\n",
              "    [theme=dark] .colab-df-convert {\n",
              "      background-color: #3B4455;\n",
              "      fill: #D2E3FC;\n",
              "    }\n",
              "\n",
              "    [theme=dark] .colab-df-convert:hover {\n",
              "      background-color: #434B5C;\n",
              "      box-shadow: 0px 1px 3px 1px rgba(0, 0, 0, 0.15);\n",
              "      filter: drop-shadow(0px 1px 2px rgba(0, 0, 0, 0.3));\n",
              "      fill: #FFFFFF;\n",
              "    }\n",
              "  </style>\n",
              "\n",
              "      <script>\n",
              "        const buttonEl =\n",
              "          document.querySelector('#df-26ab8c52-ddc5-4e9a-8869-2e82f89bcd9d button.colab-df-convert');\n",
              "        buttonEl.style.display =\n",
              "          google.colab.kernel.accessAllowed ? 'block' : 'none';\n",
              "\n",
              "        async function convertToInteractive(key) {\n",
              "          const element = document.querySelector('#df-26ab8c52-ddc5-4e9a-8869-2e82f89bcd9d');\n",
              "          const dataTable =\n",
              "            await google.colab.kernel.invokeFunction('convertToInteractive',\n",
              "                                                     [key], {});\n",
              "          if (!dataTable) return;\n",
              "\n",
              "          const docLinkHtml = 'Like what you see? Visit the ' +\n",
              "            '<a target=\"_blank\" href=https://colab.research.google.com/notebooks/data_table.ipynb>data table notebook</a>'\n",
              "            + ' to learn more about interactive tables.';\n",
              "          element.innerHTML = '';\n",
              "          dataTable['output_type'] = 'display_data';\n",
              "          await google.colab.output.renderOutput(dataTable, element);\n",
              "          const docLink = document.createElement('div');\n",
              "          docLink.innerHTML = docLinkHtml;\n",
              "          element.appendChild(docLink);\n",
              "        }\n",
              "      </script>\n",
              "    </div>\n",
              "  </div>\n",
              "  "
            ]
          },
          "metadata": {},
          "execution_count": 5
        }
      ]
    },
    {
      "cell_type": "code",
      "source": [
        "df.tail()"
      ],
      "metadata": {
        "colab": {
          "base_uri": "https://localhost:8080/",
          "height": 206
        },
        "id": "ISczP6Q7bS77",
        "outputId": "8b62d70e-ebb1-433e-bc44-708671adedfb"
      },
      "execution_count": 6,
      "outputs": [
        {
          "output_type": "execute_result",
          "data": {
            "text/plain": [
              "       InvoiceNo StockCode                      Description  Quantity  \\\n",
              "541904    581587     22613      PACK OF 20 SPACEBOY NAPKINS        12   \n",
              "541905    581587     22899     CHILDREN'S APRON DOLLY GIRL          6   \n",
              "541906    581587     23254    CHILDRENS CUTLERY DOLLY GIRL          4   \n",
              "541907    581587     23255  CHILDRENS CUTLERY CIRCUS PARADE         4   \n",
              "541908    581587     22138    BAKING SET 9 PIECE RETROSPOT          3   \n",
              "\n",
              "                InvoiceDate  UnitPrice  CustomerID Country  \n",
              "541904  2011-12-09 12:50:00       0.85     12680.0  France  \n",
              "541905  2011-12-09 12:50:00       2.10     12680.0  France  \n",
              "541906  2011-12-09 12:50:00       4.15     12680.0  France  \n",
              "541907  2011-12-09 12:50:00       4.15     12680.0  France  \n",
              "541908  2011-12-09 12:50:00       4.95     12680.0  France  "
            ],
            "text/html": [
              "\n",
              "  <div id=\"df-3450a089-d8cf-459b-8f14-0acb4dc8f3ec\">\n",
              "    <div class=\"colab-df-container\">\n",
              "      <div>\n",
              "<style scoped>\n",
              "    .dataframe tbody tr th:only-of-type {\n",
              "        vertical-align: middle;\n",
              "    }\n",
              "\n",
              "    .dataframe tbody tr th {\n",
              "        vertical-align: top;\n",
              "    }\n",
              "\n",
              "    .dataframe thead th {\n",
              "        text-align: right;\n",
              "    }\n",
              "</style>\n",
              "<table border=\"1\" class=\"dataframe\">\n",
              "  <thead>\n",
              "    <tr style=\"text-align: right;\">\n",
              "      <th></th>\n",
              "      <th>InvoiceNo</th>\n",
              "      <th>StockCode</th>\n",
              "      <th>Description</th>\n",
              "      <th>Quantity</th>\n",
              "      <th>InvoiceDate</th>\n",
              "      <th>UnitPrice</th>\n",
              "      <th>CustomerID</th>\n",
              "      <th>Country</th>\n",
              "    </tr>\n",
              "  </thead>\n",
              "  <tbody>\n",
              "    <tr>\n",
              "      <th>541904</th>\n",
              "      <td>581587</td>\n",
              "      <td>22613</td>\n",
              "      <td>PACK OF 20 SPACEBOY NAPKINS</td>\n",
              "      <td>12</td>\n",
              "      <td>2011-12-09 12:50:00</td>\n",
              "      <td>0.85</td>\n",
              "      <td>12680.0</td>\n",
              "      <td>France</td>\n",
              "    </tr>\n",
              "    <tr>\n",
              "      <th>541905</th>\n",
              "      <td>581587</td>\n",
              "      <td>22899</td>\n",
              "      <td>CHILDREN'S APRON DOLLY GIRL</td>\n",
              "      <td>6</td>\n",
              "      <td>2011-12-09 12:50:00</td>\n",
              "      <td>2.10</td>\n",
              "      <td>12680.0</td>\n",
              "      <td>France</td>\n",
              "    </tr>\n",
              "    <tr>\n",
              "      <th>541906</th>\n",
              "      <td>581587</td>\n",
              "      <td>23254</td>\n",
              "      <td>CHILDRENS CUTLERY DOLLY GIRL</td>\n",
              "      <td>4</td>\n",
              "      <td>2011-12-09 12:50:00</td>\n",
              "      <td>4.15</td>\n",
              "      <td>12680.0</td>\n",
              "      <td>France</td>\n",
              "    </tr>\n",
              "    <tr>\n",
              "      <th>541907</th>\n",
              "      <td>581587</td>\n",
              "      <td>23255</td>\n",
              "      <td>CHILDRENS CUTLERY CIRCUS PARADE</td>\n",
              "      <td>4</td>\n",
              "      <td>2011-12-09 12:50:00</td>\n",
              "      <td>4.15</td>\n",
              "      <td>12680.0</td>\n",
              "      <td>France</td>\n",
              "    </tr>\n",
              "    <tr>\n",
              "      <th>541908</th>\n",
              "      <td>581587</td>\n",
              "      <td>22138</td>\n",
              "      <td>BAKING SET 9 PIECE RETROSPOT</td>\n",
              "      <td>3</td>\n",
              "      <td>2011-12-09 12:50:00</td>\n",
              "      <td>4.95</td>\n",
              "      <td>12680.0</td>\n",
              "      <td>France</td>\n",
              "    </tr>\n",
              "  </tbody>\n",
              "</table>\n",
              "</div>\n",
              "      <button class=\"colab-df-convert\" onclick=\"convertToInteractive('df-3450a089-d8cf-459b-8f14-0acb4dc8f3ec')\"\n",
              "              title=\"Convert this dataframe to an interactive table.\"\n",
              "              style=\"display:none;\">\n",
              "        \n",
              "  <svg xmlns=\"http://www.w3.org/2000/svg\" height=\"24px\"viewBox=\"0 0 24 24\"\n",
              "       width=\"24px\">\n",
              "    <path d=\"M0 0h24v24H0V0z\" fill=\"none\"/>\n",
              "    <path d=\"M18.56 5.44l.94 2.06.94-2.06 2.06-.94-2.06-.94-.94-2.06-.94 2.06-2.06.94zm-11 1L8.5 8.5l.94-2.06 2.06-.94-2.06-.94L8.5 2.5l-.94 2.06-2.06.94zm10 10l.94 2.06.94-2.06 2.06-.94-2.06-.94-.94-2.06-.94 2.06-2.06.94z\"/><path d=\"M17.41 7.96l-1.37-1.37c-.4-.4-.92-.59-1.43-.59-.52 0-1.04.2-1.43.59L10.3 9.45l-7.72 7.72c-.78.78-.78 2.05 0 2.83L4 21.41c.39.39.9.59 1.41.59.51 0 1.02-.2 1.41-.59l7.78-7.78 2.81-2.81c.8-.78.8-2.07 0-2.86zM5.41 20L4 18.59l7.72-7.72 1.47 1.35L5.41 20z\"/>\n",
              "  </svg>\n",
              "      </button>\n",
              "      \n",
              "  <style>\n",
              "    .colab-df-container {\n",
              "      display:flex;\n",
              "      flex-wrap:wrap;\n",
              "      gap: 12px;\n",
              "    }\n",
              "\n",
              "    .colab-df-convert {\n",
              "      background-color: #E8F0FE;\n",
              "      border: none;\n",
              "      border-radius: 50%;\n",
              "      cursor: pointer;\n",
              "      display: none;\n",
              "      fill: #1967D2;\n",
              "      height: 32px;\n",
              "      padding: 0 0 0 0;\n",
              "      width: 32px;\n",
              "    }\n",
              "\n",
              "    .colab-df-convert:hover {\n",
              "      background-color: #E2EBFA;\n",
              "      box-shadow: 0px 1px 2px rgba(60, 64, 67, 0.3), 0px 1px 3px 1px rgba(60, 64, 67, 0.15);\n",
              "      fill: #174EA6;\n",
              "    }\n",
              "\n",
              "    [theme=dark] .colab-df-convert {\n",
              "      background-color: #3B4455;\n",
              "      fill: #D2E3FC;\n",
              "    }\n",
              "\n",
              "    [theme=dark] .colab-df-convert:hover {\n",
              "      background-color: #434B5C;\n",
              "      box-shadow: 0px 1px 3px 1px rgba(0, 0, 0, 0.15);\n",
              "      filter: drop-shadow(0px 1px 2px rgba(0, 0, 0, 0.3));\n",
              "      fill: #FFFFFF;\n",
              "    }\n",
              "  </style>\n",
              "\n",
              "      <script>\n",
              "        const buttonEl =\n",
              "          document.querySelector('#df-3450a089-d8cf-459b-8f14-0acb4dc8f3ec button.colab-df-convert');\n",
              "        buttonEl.style.display =\n",
              "          google.colab.kernel.accessAllowed ? 'block' : 'none';\n",
              "\n",
              "        async function convertToInteractive(key) {\n",
              "          const element = document.querySelector('#df-3450a089-d8cf-459b-8f14-0acb4dc8f3ec');\n",
              "          const dataTable =\n",
              "            await google.colab.kernel.invokeFunction('convertToInteractive',\n",
              "                                                     [key], {});\n",
              "          if (!dataTable) return;\n",
              "\n",
              "          const docLinkHtml = 'Like what you see? Visit the ' +\n",
              "            '<a target=\"_blank\" href=https://colab.research.google.com/notebooks/data_table.ipynb>data table notebook</a>'\n",
              "            + ' to learn more about interactive tables.';\n",
              "          element.innerHTML = '';\n",
              "          dataTable['output_type'] = 'display_data';\n",
              "          await google.colab.output.renderOutput(dataTable, element);\n",
              "          const docLink = document.createElement('div');\n",
              "          docLink.innerHTML = docLinkHtml;\n",
              "          element.appendChild(docLink);\n",
              "        }\n",
              "      </script>\n",
              "    </div>\n",
              "  </div>\n",
              "  "
            ]
          },
          "metadata": {},
          "execution_count": 6
        }
      ]
    },
    {
      "cell_type": "markdown",
      "source": [
        "### Dataset Rows & Columns count"
      ],
      "metadata": {
        "id": "7hBIi_osiCS2"
      }
    },
    {
      "cell_type": "code",
      "source": [
        "# Dataset Rows & Columns \n",
        "df.shape"
      ],
      "metadata": {
        "id": "Kllu7SJgmLij",
        "colab": {
          "base_uri": "https://localhost:8080/"
        },
        "outputId": "529fdc7d-719f-4888-c9bd-e399739afc25"
      },
      "execution_count": 7,
      "outputs": [
        {
          "output_type": "execute_result",
          "data": {
            "text/plain": [
              "(541909, 8)"
            ]
          },
          "metadata": {},
          "execution_count": 7
        }
      ]
    },
    {
      "cell_type": "markdown",
      "source": [
        "### Dataset Information"
      ],
      "metadata": {
        "id": "JlHwYmJAmNHm"
      }
    },
    {
      "cell_type": "code",
      "source": [
        "# Dataset Info\n",
        "df.info()"
      ],
      "metadata": {
        "id": "e9hRXRi6meOf",
        "colab": {
          "base_uri": "https://localhost:8080/"
        },
        "outputId": "dd8cbda1-600b-47cf-deb2-27be0e18c362"
      },
      "execution_count": 8,
      "outputs": [
        {
          "output_type": "stream",
          "name": "stdout",
          "text": [
            "<class 'pandas.core.frame.DataFrame'>\n",
            "RangeIndex: 541909 entries, 0 to 541908\n",
            "Data columns (total 8 columns):\n",
            " #   Column       Non-Null Count   Dtype  \n",
            "---  ------       --------------   -----  \n",
            " 0   InvoiceNo    541909 non-null  object \n",
            " 1   StockCode    541909 non-null  object \n",
            " 2   Description  540455 non-null  object \n",
            " 3   Quantity     541909 non-null  int64  \n",
            " 4   InvoiceDate  541909 non-null  object \n",
            " 5   UnitPrice    541909 non-null  float64\n",
            " 6   CustomerID   406829 non-null  float64\n",
            " 7   Country      541909 non-null  object \n",
            "dtypes: float64(2), int64(1), object(5)\n",
            "memory usage: 33.1+ MB\n"
          ]
        }
      ]
    },
    {
      "cell_type": "markdown",
      "source": [
        "#### Duplicate Values"
      ],
      "metadata": {
        "id": "35m5QtbWiB9F"
      }
    },
    {
      "cell_type": "code",
      "source": [
        "# Dataset Duplicate Value Count\n",
        "len(df[df.duplicated()])"
      ],
      "metadata": {
        "id": "1sLdpKYkmox0",
        "colab": {
          "base_uri": "https://localhost:8080/"
        },
        "outputId": "d368c784-425b-45c1-fb9b-205cffaea603"
      },
      "execution_count": 9,
      "outputs": [
        {
          "output_type": "execute_result",
          "data": {
            "text/plain": [
              "5268"
            ]
          },
          "metadata": {},
          "execution_count": 9
        }
      ]
    },
    {
      "cell_type": "code",
      "source": [
        "#dropping the duplicate data\n",
        "df.drop_duplicates(inplace=True)"
      ],
      "metadata": {
        "id": "Ba3ZCo2TNPcg"
      },
      "execution_count": 10,
      "outputs": []
    },
    {
      "cell_type": "code",
      "source": [
        "df.shape"
      ],
      "metadata": {
        "id": "RMO4qmTrOMGf",
        "colab": {
          "base_uri": "https://localhost:8080/"
        },
        "outputId": "8b724495-c78b-48f9-a8e7-d494fb172123"
      },
      "execution_count": 11,
      "outputs": [
        {
          "output_type": "execute_result",
          "data": {
            "text/plain": [
              "(536641, 8)"
            ]
          },
          "metadata": {},
          "execution_count": 11
        }
      ]
    },
    {
      "cell_type": "markdown",
      "source": [
        "#### Missing Values/Null Values"
      ],
      "metadata": {
        "id": "PoPl-ycgm1ru"
      }
    },
    {
      "cell_type": "code",
      "source": [
        "# Missing Values/Null Values Count\n",
        "print(df.isnull().sum())"
      ],
      "metadata": {
        "id": "GgHWkxvamxVg",
        "colab": {
          "base_uri": "https://localhost:8080/"
        },
        "outputId": "235a89cc-381f-45b9-b3bc-460b53bebe49"
      },
      "execution_count": 12,
      "outputs": [
        {
          "output_type": "stream",
          "name": "stdout",
          "text": [
            "InvoiceNo           0\n",
            "StockCode           0\n",
            "Description      1454\n",
            "Quantity            0\n",
            "InvoiceDate         0\n",
            "UnitPrice           0\n",
            "CustomerID     135037\n",
            "Country             0\n",
            "dtype: int64\n"
          ]
        }
      ]
    },
    {
      "cell_type": "code",
      "source": [
        "# Visualizing the missing values\n",
        "# Checking Null Value by plotting Heatmap\n",
        "sns.heatmap(df.isnull(), cbar=False)"
      ],
      "metadata": {
        "id": "3q5wnI3om9sJ",
        "colab": {
          "base_uri": "https://localhost:8080/",
          "height": 508
        },
        "outputId": "0ea64622-35fa-481c-d499-93dd80a170a0"
      },
      "execution_count": 13,
      "outputs": [
        {
          "output_type": "execute_result",
          "data": {
            "text/plain": [
              "<Axes: >"
            ]
          },
          "metadata": {},
          "execution_count": 13
        },
        {
          "output_type": "display_data",
          "data": {
            "text/plain": [
              "<Figure size 800x550 with 1 Axes>"
            ],
            "image/png": "[encoded data removed]"
          },
          "metadata": {}
        }
      ]
    },
    {
      "cell_type": "markdown",
      "source": [
        "### What did you know about your dataset?"
      ],
      "metadata": {
        "id": "H0kj-8xxnORC"
      }
    },
    {
      "cell_type": "markdown",
      "source": [
        "• Total Rows : 541909, Total Column: 8 \n",
        "\n",
        "• A transactional data set with transactions occurring between 1st December   2010 and 9th December 2011 for a UK-based online retailer.\n",
        " Many customers of the company are wholesalers. \n",
        "\n",
        "• There are 37 unique countries in columns attribute\n",
        "\n",
        "• There are a lot of null values in Description & Customer ID.\n",
        "\n",
        "• There are 5268 duplicates values in our dataset"
      ],
      "metadata": {
        "id": "gfoNAAC-nUe_"
      }
    },
    {
      "cell_type": "markdown",
      "source": [
        "## ***2. Understanding Your Variables***"
      ],
      "metadata": {
        "id": "nA9Y7ga8ng1Z"
      }
    },
    {
      "cell_type": "markdown",
      "source": [
        "## ***2. Understanding Your Variables***"
      ],
      "metadata": {
        "id": "W65JHTj6Ytmk"
      }
    },
    {
      "cell_type": "code",
      "source": [
        "# Dataset Columns\n",
        "df.columns"
      ],
      "metadata": {
        "colab": {
          "base_uri": "https://localhost:8080/"
        },
        "id": "HYWb0MTGYtnD",
        "outputId": "b6c7593a-8ed4-4ad2-9a8a-1fe0b3e4eae9"
      },
      "execution_count": 14,
      "outputs": [
        {
          "output_type": "execute_result",
          "data": {
            "text/plain": [
              "Index(['InvoiceNo', 'StockCode', 'Description', 'Quantity', 'InvoiceDate',\n",
              "       'UnitPrice', 'CustomerID', 'Country'],\n",
              "      dtype='object')"
            ]
          },
          "metadata": {},
          "execution_count": 14
        }
      ]
    },
    {
      "cell_type": "code",
      "source": [
        "df.dtypes"
      ],
      "metadata": {
        "colab": {
          "base_uri": "https://localhost:8080/"
        },
        "id": "0QmC-GiCYtnH",
        "outputId": "e9227d3d-79a8-41dc-8f89-90c1171fa59b"
      },
      "execution_count": 15,
      "outputs": [
        {
          "output_type": "execute_result",
          "data": {
            "text/plain": [
              "InvoiceNo       object\n",
              "StockCode       object\n",
              "Description     object\n",
              "Quantity         int64\n",
              "InvoiceDate     object\n",
              "UnitPrice      float64\n",
              "CustomerID     float64\n",
              "Country         object\n",
              "dtype: object"
            ]
          },
          "metadata": {},
          "execution_count": 15
        }
      ]
    },
    {
      "cell_type": "code",
      "source": [
        "# Dataset Describe\n",
        "df.describe(include='all')"
      ],
      "metadata": {
        "colab": {
          "base_uri": "https://localhost:8080/",
          "height": 394
        },
        "id": "Qg8mVwnKYtnI",
        "outputId": "310cb3d2-55a0-41b9-ac17-58880efb0699"
      },
      "execution_count": 16,
      "outputs": [
        {
          "output_type": "execute_result",
          "data": {
            "text/plain": [
              "        InvoiceNo StockCode                         Description  \\\n",
              "count    536641.0    536641                              535187   \n",
              "unique    25900.0      4070                                4223   \n",
              "top      573585.0    85123A  WHITE HANGING HEART T-LIGHT HOLDER   \n",
              "freq       1114.0      2301                                2357   \n",
              "mean          NaN       NaN                                 NaN   \n",
              "std           NaN       NaN                                 NaN   \n",
              "min           NaN       NaN                                 NaN   \n",
              "25%           NaN       NaN                                 NaN   \n",
              "50%           NaN       NaN                                 NaN   \n",
              "75%           NaN       NaN                                 NaN   \n",
              "max           NaN       NaN                                 NaN   \n",
              "\n",
              "             Quantity          InvoiceDate      UnitPrice     CustomerID  \\\n",
              "count   536641.000000               536641  536641.000000  401604.000000   \n",
              "unique            NaN                23262            NaN            NaN   \n",
              "top               NaN  2011-10-31 14:41:00            NaN            NaN   \n",
              "freq              NaN                 1114            NaN            NaN   \n",
              "mean         9.620029                  NaN       4.632656   15281.160818   \n",
              "std        219.130156                  NaN      97.233118    1714.006089   \n",
              "min     -80995.000000                  NaN  -11062.060000   12346.000000   \n",
              "25%          1.000000                  NaN       1.250000   13939.000000   \n",
              "50%          3.000000                  NaN       2.080000   15145.000000   \n",
              "75%         10.000000                  NaN       4.130000   16784.000000   \n",
              "max      80995.000000                  NaN   38970.000000   18287.000000   \n",
              "\n",
              "               Country  \n",
              "count           536641  \n",
              "unique              38  \n",
              "top     United Kingdom  \n",
              "freq            490300  \n",
              "mean               NaN  \n",
              "std                NaN  \n",
              "min                NaN  \n",
              "25%                NaN  \n",
              "50%                NaN  \n",
              "75%                NaN  \n",
              "max                NaN  "
            ],
            "text/html": [
              "\n",
              "  <div id=\"df-30b505ee-fae7-4373-85fe-c36dc3878408\">\n",
              "    <div class=\"colab-df-container\">\n",
              "      <div>\n",
              "<style scoped>\n",
              "    .dataframe tbody tr th:only-of-type {\n",
              "        vertical-align: middle;\n",
              "    }\n",
              "\n",
              "    .dataframe tbody tr th {\n",
              "        vertical-align: top;\n",
              "    }\n",
              "\n",
              "    .dataframe thead th {\n",
              "        text-align: right;\n",
              "    }\n",
              "</style>\n",
              "<table border=\"1\" class=\"dataframe\">\n",
              "  <thead>\n",
              "    <tr style=\"text-align: right;\">\n",
              "      <th></th>\n",
              "      <th>InvoiceNo</th>\n",
              "      <th>StockCode</th>\n",
              "      <th>Description</th>\n",
              "      <th>Quantity</th>\n",
              "      <th>InvoiceDate</th>\n",
              "      <th>UnitPrice</th>\n",
              "      <th>CustomerID</th>\n",
              "      <th>Country</th>\n",
              "    </tr>\n",
              "  </thead>\n",
              "  <tbody>\n",
              "    <tr>\n",
              "      <th>count</th>\n",
              "      <td>536641.0</td>\n",
              "      <td>536641</td>\n",
              "      <td>535187</td>\n",
              "      <td>536641.000000</td>\n",
              "      <td>536641</td>\n",
              "      <td>536641.000000</td>\n",
              "      <td>401604.000000</td>\n",
              "      <td>536641</td>\n",
              "    </tr>\n",
              "    <tr>\n",
              "      <th>unique</th>\n",
              "      <td>25900.0</td>\n",
              "      <td>4070</td>\n",
              "      <td>4223</td>\n",
              "      <td>NaN</td>\n",
              "      <td>23262</td>\n",
              "      <td>NaN</td>\n",
              "      <td>NaN</td>\n",
              "      <td>38</td>\n",
              "    </tr>\n",
              "    <tr>\n",
              "      <th>top</th>\n",
              "      <td>573585.0</td>\n",
              "      <td>85123A</td>\n",
              "      <td>WHITE HANGING HEART T-LIGHT HOLDER</td>\n",
              "      <td>NaN</td>\n",
              "      <td>2011-10-31 14:41:00</td>\n",
              "      <td>NaN</td>\n",
              "      <td>NaN</td>\n",
              "      <td>United Kingdom</td>\n",
              "    </tr>\n",
              "    <tr>\n",
              "      <th>freq</th>\n",
              "      <td>1114.0</td>\n",
              "      <td>2301</td>\n",
              "      <td>2357</td>\n",
              "      <td>NaN</td>\n",
              "      <td>1114</td>\n",
              "      <td>NaN</td>\n",
              "      <td>NaN</td>\n",
              "      <td>490300</td>\n",
              "    </tr>\n",
              "    <tr>\n",
              "      <th>mean</th>\n",
              "      <td>NaN</td>\n",
              "      <td>NaN</td>\n",
              "      <td>NaN</td>\n",
              "      <td>9.620029</td>\n",
              "      <td>NaN</td>\n",
              "      <td>4.632656</td>\n",
              "      <td>15281.160818</td>\n",
              "      <td>NaN</td>\n",
              "    </tr>\n",
              "    <tr>\n",
              "      <th>std</th>\n",
              "      <td>NaN</td>\n",
              "      <td>NaN</td>\n",
              "      <td>NaN</td>\n",
              "      <td>219.130156</td>\n",
              "      <td>NaN</td>\n",
              "      <td>97.233118</td>\n",
              "      <td>1714.006089</td>\n",
              "      <td>NaN</td>\n",
              "    </tr>\n",
              "    <tr>\n",
              "      <th>min</th>\n",
              "      <td>NaN</td>\n",
              "      <td>NaN</td>\n",
              "      <td>NaN</td>\n",
              "      <td>-80995.000000</td>\n",
              "      <td>NaN</td>\n",
              "      <td>-11062.060000</td>\n",
              "      <td>12346.000000</td>\n",
              "      <td>NaN</td>\n",
              "    </tr>\n",
              "    <tr>\n",
              "      <th>25%</th>\n",
              "      <td>NaN</td>\n",
              "      <td>NaN</td>\n",
              "      <td>NaN</td>\n",
              "      <td>1.000000</td>\n",
              "      <td>NaN</td>\n",
              "      <td>1.250000</td>\n",
              "      <td>13939.000000</td>\n",
              "      <td>NaN</td>\n",
              "    </tr>\n",
              "    <tr>\n",
              "      <th>50%</th>\n",
              "      <td>NaN</td>\n",
              "      <td>NaN</td>\n",
              "      <td>NaN</td>\n",
              "      <td>3.000000</td>\n",
              "      <td>NaN</td>\n",
              "      <td>2.080000</td>\n",
              "      <td>15145.000000</td>\n",
              "      <td>NaN</td>\n",
              "    </tr>\n",
              "    <tr>\n",
              "      <th>75%</th>\n",
              "      <td>NaN</td>\n",
              "      <td>NaN</td>\n",
              "      <td>NaN</td>\n",
              "      <td>10.000000</td>\n",
              "      <td>NaN</td>\n",
              "      <td>4.130000</td>\n",
              "      <td>16784.000000</td>\n",
              "      <td>NaN</td>\n",
              "    </tr>\n",
              "    <tr>\n",
              "      <th>max</th>\n",
              "      <td>NaN</td>\n",
              "      <td>NaN</td>\n",
              "      <td>NaN</td>\n",
              "      <td>80995.000000</td>\n",
              "      <td>NaN</td>\n",
              "      <td>38970.000000</td>\n",
              "      <td>18287.000000</td>\n",
              "      <td>NaN</td>\n",
              "    </tr>\n",
              "  </tbody>\n",
              "</table>\n",
              "</div>\n",
              "      <button class=\"colab-df-convert\" onclick=\"convertToInteractive('df-30b505ee-fae7-4373-85fe-c36dc3878408')\"\n",
              "              title=\"Convert this dataframe to an interactive table.\"\n",
              "              style=\"display:none;\">\n",
              "        \n",
              "  <svg xmlns=\"http://www.w3.org/2000/svg\" height=\"24px\"viewBox=\"0 0 24 24\"\n",
              "       width=\"24px\">\n",
              "    <path d=\"M0 0h24v24H0V0z\" fill=\"none\"/>\n",
              "    <path d=\"M18.56 5.44l.94 2.06.94-2.06 2.06-.94-2.06-.94-.94-2.06-.94 2.06-2.06.94zm-11 1L8.5 8.5l.94-2.06 2.06-.94-2.06-.94L8.5 2.5l-.94 2.06-2.06.94zm10 10l.94 2.06.94-2.06 2.06-.94-2.06-.94-.94-2.06-.94 2.06-2.06.94z\"/><path d=\"M17.41 7.96l-1.37-1.37c-.4-.4-.92-.59-1.43-.59-.52 0-1.04.2-1.43.59L10.3 9.45l-7.72 7.72c-.78.78-.78 2.05 0 2.83L4 21.41c.39.39.9.59 1.41.59.51 0 1.02-.2 1.41-.59l7.78-7.78 2.81-2.81c.8-.78.8-2.07 0-2.86zM5.41 20L4 18.59l7.72-7.72 1.47 1.35L5.41 20z\"/>\n",
              "  </svg>\n",
              "      </button>\n",
              "      \n",
              "  <style>\n",
              "    .colab-df-container {\n",
              "      display:flex;\n",
              "      flex-wrap:wrap;\n",
              "      gap: 12px;\n",
              "    }\n",
              "\n",
              "    .colab-df-convert {\n",
              "      background-color: #E8F0FE;\n",
              "      border: none;\n",
              "      border-radius: 50%;\n",
              "      cursor: pointer;\n",
              "      display: none;\n",
              "      fill: #1967D2;\n",
              "      height: 32px;\n",
              "      padding: 0 0 0 0;\n",
              "      width: 32px;\n",
              "    }\n",
              "\n",
              "    .colab-df-convert:hover {\n",
              "      background-color: #E2EBFA;\n",
              "      box-shadow: 0px 1px 2px rgba(60, 64, 67, 0.3), 0px 1px 3px 1px rgba(60, 64, 67, 0.15);\n",
              "      fill: #174EA6;\n",
              "    }\n",
              "\n",
              "    [theme=dark] .colab-df-convert {\n",
              "      background-color: #3B4455;\n",
              "      fill: #D2E3FC;\n",
              "    }\n",
              "\n",
              "    [theme=dark] .colab-df-convert:hover {\n",
              "      background-color: #434B5C;\n",
              "      box-shadow: 0px 1px 3px 1px rgba(0, 0, 0, 0.15);\n",
              "      filter: drop-shadow(0px 1px 2px rgba(0, 0, 0, 0.3));\n",
              "      fill: #FFFFFF;\n",
              "    }\n",
              "  </style>\n",
              "\n",
              "      <script>\n",
              "        const buttonEl =\n",
              "          document.querySelector('#df-30b505ee-fae7-4373-85fe-c36dc3878408 button.colab-df-convert');\n",
              "        buttonEl.style.display =\n",
              "          google.colab.kernel.accessAllowed ? 'block' : 'none';\n",
              "\n",
              "        async function convertToInteractive(key) {\n",
              "          const element = document.querySelector('#df-30b505ee-fae7-4373-85fe-c36dc3878408');\n",
              "          const dataTable =\n",
              "            await google.colab.kernel.invokeFunction('convertToInteractive',\n",
              "                                                     [key], {});\n",
              "          if (!dataTable) return;\n",
              "\n",
              "          const docLinkHtml = 'Like what you see? Visit the ' +\n",
              "            '<a target=\"_blank\" href=https://colab.research.google.com/notebooks/data_table.ipynb>data table notebook</a>'\n",
              "            + ' to learn more about interactive tables.';\n",
              "          element.innerHTML = '';\n",
              "          dataTable['output_type'] = 'display_data';\n",
              "          await google.colab.output.renderOutput(dataTable, element);\n",
              "          const docLink = document.createElement('div');\n",
              "          docLink.innerHTML = docLinkHtml;\n",
              "          element.appendChild(docLink);\n",
              "        }\n",
              "      </script>\n",
              "    </div>\n",
              "  </div>\n",
              "  "
            ]
          },
          "metadata": {},
          "execution_count": 16
        }
      ]
    },
    {
      "cell_type": "markdown",
      "source": [
        "### Variables Description "
      ],
      "metadata": {
        "id": "PBTbrJXOngz2"
      }
    },
    {
      "cell_type": "markdown",
      "source": [
        "**Variable Description**\n",
        "\n",
        "• InvoiceNo: Invoice number. Nominal, a 6-digit integral number uniquely assigned to each transaction. If this code starts with letter 'c', it indicates a cancellation. \n",
        "\n",
        "• StockCode: Product (item) code. Nominal, a 5-digit integral number uniquely assigned to each distinct product. \n",
        "\n",
        "• Description: Product (item) name. Nominal. \n",
        "\n",
        "• Quantity: The quantities of each product (item) per transaction. Numeric. \n",
        "\n",
        "• InvoiceDate: Invoice Date and time. Numeric, the day and time when each transaction was generated. \n",
        "\n",
        "• UnitPrice: Unit price. Numeric, Product price per unit in sterling.\n",
        "\n",
        "• CustomerID: Customer number. Nominal, a 5-digit integral number uniquely assigned to each customer."
      ],
      "metadata": {
        "id": "aJV4KIxSnxay"
      }
    },
    {
      "cell_type": "markdown",
      "source": [
        "### Check Unique Values for each variable."
      ],
      "metadata": {
        "id": "u3PMJOP6ngxN"
      }
    },
    {
      "cell_type": "code",
      "source": [
        "# Check Unique Values for each variable.\n",
        "for i in df.columns.tolist():\n",
        "  print(\"No. of unique values in \",i,\"is\",df[i].nunique(),\".\")"
      ],
      "metadata": {
        "id": "zms12Yq5n-jE"
      },
      "execution_count": null,
      "outputs": []
    },
    {
      "cell_type": "markdown",
      "source": [],
      "metadata": {
        "id": "n7vqbQ0ET_a0"
      }
    },
    {
      "cell_type": "markdown",
      "source": [
        "## ***3. Data Wrangling***"
      ],
      "metadata": {
        "id": "dauF4eBmngu3"
      }
    },
    {
      "cell_type": "markdown",
      "metadata": {
        "id": "nloxnAS9LfU1"
      },
      "source": [
        "### **Finding the top 10 countries which have the highest number of orders**\n",
        "\n"
      ]
    },
    {
      "cell_type": "markdown",
      "source": [
        "\n",
        "**Here, we will  analyse the number of countries from which orders were made:**"
      ],
      "metadata": {
        "id": "TwuZzSB2JCF9"
      }
    },
    {
      "cell_type": "code",
      "execution_count": null,
      "metadata": {
        "id": "ZMobaN0dtyV2"
      },
      "outputs": [],
      "source": [
        "#Code to find the number of countries who made the transaction\n",
        "temp = df[['CustomerID', 'InvoiceNo', 'Country']].groupby(['CustomerID', 'InvoiceNo', 'Country']).count()\n",
        "temp = temp.reset_index(drop = False)\n",
        "countries = temp['Country'].value_counts()\n",
        "print('No. of countries in the dataframe: {}'.format(len(countries)))"
      ]
    },
    {
      "cell_type": "markdown",
      "source": [
        "We see that the number of countries are 37 from which transaction was made"
      ],
      "metadata": {
        "id": "-Zv6fq5GGESn"
      }
    },
    {
      "cell_type": "markdown",
      "metadata": {
        "id": "V7aOoBW5Safh"
      },
      "source": [
        "#### **Different country count on the basis of Invoice no.**\n"
      ]
    },
    {
      "cell_type": "code",
      "execution_count": null,
      "metadata": {
        "id": "SdYMdl_gSZxL"
      },
      "outputs": [],
      "source": [
        "# Apply groupby function on country and Invoice No.\n",
        "country_count = df.groupby('Country')['InvoiceNo'].count().reset_index()"
      ]
    },
    {
      "cell_type": "code",
      "execution_count": null,
      "metadata": {
        "id": "Y04s-7piSsF0"
      },
      "outputs": [],
      "source": [
        "country_count.head()"
      ]
    },
    {
      "cell_type": "code",
      "execution_count": null,
      "metadata": {
        "id": "a-UGj3ZPTEhG"
      },
      "outputs": [],
      "source": [
        "## From country_count variable finding top 10 countries\n",
        "Top_10_country = country_count.sort_values('InvoiceNo', ascending=False, ignore_index=True).head(10)\n",
        "Top_10_country"
      ]
    },
    {
      "cell_type": "markdown",
      "metadata": {
        "id": "giAlwhOaBd4r"
      },
      "source": [
        "**Since the data, taken from the UCI Machine Learning repository describes the data to based on transactions for a UK-based and registered non-store online retail, let us check the percentage of orders from each country in the data.**\n"
      ]
    },
    {
      "cell_type": "markdown",
      "source": [],
      "metadata": {
        "id": "m4xTi0uqULkP"
      }
    },
    {
      "cell_type": "code",
      "execution_count": null,
      "metadata": {
        "id": "niDvtbpMTqy6"
      },
      "outputs": [],
      "source": [
        "## Adding country percentage column to top 10 countries data frame\n",
        "Top_10_country['Country_percent']= Top_10_country['InvoiceNo']*100/df['InvoiceNo'].count()\n",
        "Top_10_country"
      ]
    },
    {
      "cell_type": "markdown",
      "source": [
        "From the above data we can infer that 'United Kingdom' is the country to have tranacted the highest beign 91.43% ,followed by Germany and France. The country lowest in transaction is Australia."
      ],
      "metadata": {
        "id": "Yl5A2XnKHQup"
      }
    },
    {
      "cell_type": "markdown",
      "source": [
        "Now , we shall analyse the  cancelled orders:\n",
        "\n",
        "\n",
        "We have an atrribute named \"InvoiceNo:\" \n",
        "\n",
        "\n",
        "**InvoiceNo: Invoice number. Nominal, a 6-digit integral number uniquely assigned to each transaction. If this code starts with letter 'c', it indicates a cancellation.** \n",
        "\n",
        "Let us now look at the number of cancelled orders in the dataset."
      ],
      "metadata": {
        "id": "MqPRhC3PI8qf"
      }
    },
    {
      "cell_type": "code",
      "execution_count": null,
      "metadata": {
        "id": "5_ygTTRehn7b"
      },
      "outputs": [],
      "source": [
        "# String to be searched in start of string \n",
        "search =\"C\"\n",
        "  \n",
        "# boolean series returned with False at place of NaN\n",
        "series = df[\"InvoiceNo\"].str.startswith(search, na=False)\n",
        "  \n",
        "# displaying filtered dataframe\n",
        "cancel_order = df[series]\n",
        "\n",
        "cancel_order.head()"
      ]
    },
    {
      "cell_type": "code",
      "execution_count": null,
      "metadata": {
        "id": "uGf7dzKpjQWh"
      },
      "outputs": [],
      "source": [
        "# Checking the shape of the cancelled order dataset\n",
        "cancel_order.shape"
      ]
    },
    {
      "cell_type": "code",
      "execution_count": null,
      "metadata": {
        "id": "QAzxtGgQjgcZ"
      },
      "outputs": [],
      "source": [
        "# Checking the percentage of no. of orders cancelled \n",
        "cancel_percentage = cancel_order['InvoiceNo'].count()*100/df['InvoiceNo'].count()\n",
        "cancel_percentage"
      ]
    },
    {
      "cell_type": "markdown",
      "metadata": {
        "id": "2nJdCvB7lmGm"
      },
      "source": [
        "\n",
        "This shows that **9251 (approx 1.72%)** were such orders which were **canceled**.\n"
      ]
    },
    {
      "cell_type": "markdown",
      "metadata": {
        "id": "nOpRA6qfuhFO"
      },
      "source": [
        "### **Now checking the top 10 countries from where the orders were canceled.**\n"
      ]
    },
    {
      "cell_type": "code",
      "execution_count": null,
      "metadata": {
        "id": "NOQHoIF5lP4P"
      },
      "outputs": [],
      "source": [
        "cancel = cancel_order.groupby('Country')['InvoiceNo'].count().reset_index()"
      ]
    },
    {
      "cell_type": "code",
      "execution_count": null,
      "metadata": {
        "id": "u8RWeBrYu4Jy"
      },
      "outputs": [],
      "source": [
        "cancel_top10 = cancel.sort_values('InvoiceNo',ascending=False, ignore_index=True).head(10)\n",
        "cancel_top10"
      ]
    },
    {
      "cell_type": "markdown",
      "metadata": {
        "id": "0XRR3KgIs-T5"
      },
      "source": [
        "### **Taking a look at the Monthly sales data.**"
      ]
    },
    {
      "cell_type": "code",
      "execution_count": null,
      "metadata": {
        "id": "gdP3EH_Buk3R"
      },
      "outputs": [],
      "source": [
        "# To look at the monthly sales data, first we need to create a separate month column out of date.\n",
        "# Also lets create separate column for day, month, year etc. and also create columns that contain proper names of months and days.\n",
        "\n",
        "df['Day_num'] = df['InvoiceDate'].dt.day\n",
        "df['Month_num'] = df['InvoiceDate'].dt.month\n",
        "df['Year'] = df['InvoiceDate'].dt.year\n",
        "\n",
        "# creating columns that contain proper months and day names for better understanding.\n",
        "df['Month']=df['InvoiceDate'].dt.month_name()\n",
        "df['Day'] = df['InvoiceDate'].dt.day_name()       \n",
        "\n",
        "# seeing the new data.\n",
        "df.head()"
      ]
    },
    {
      "cell_type": "code",
      "execution_count": null,
      "metadata": {
        "id": "3zJAvGILuaNu"
      },
      "outputs": [],
      "source": [
        "# Looking at monthly sales data.\n",
        "month_df = df['Month'].value_counts().reset_index()\n",
        "month_df.head()"
      ]
    },
    {
      "cell_type": "code",
      "execution_count": null,
      "metadata": {
        "id": "bjSNXUUtxW6J"
      },
      "outputs": [],
      "source": [
        "# As we can see from above, the months are not ordered. So lets order them before plotting the above data.\n",
        "# Initialize an ordered months list.\n",
        "ordered_months_list = [\"January\", \"February\", \"March\", \"April\", \"May\", \"June\", \"July\", \"August\", \"September\", \"October\", \"November\", \"December\"]\n",
        "\n",
        "# We can use categorical index function for ordering our data using the above list as a reference point.\n",
        "month_df.index = pd.CategoricalIndex(month_df['index'],categories=ordered_months_list,ordered=True)\n",
        "month_df = month_df.sort_index().reset_index(drop=True)\n",
        "month_df"
      ]
    },
    {
      "cell_type": "markdown",
      "metadata": {
        "id": "hd1FDDkevg-T"
      },
      "source": [
        "### **Taking a look at day wise order placement trend**"
      ]
    },
    {
      "cell_type": "code",
      "execution_count": null,
      "metadata": {
        "id": "ppBuW78nwY1w"
      },
      "outputs": [],
      "source": [
        "# Taking a look at the daily data.\n",
        "day_df = pd.DataFrame(df['Day'].value_counts().reset_index())\n",
        "day_df"
      ]
    },
    {
      "cell_type": "code",
      "execution_count": null,
      "metadata": {
        "id": "iCouFXmow2L3"
      },
      "outputs": [],
      "source": [
        "# As we can see from above, the months are not ordered. So lets order them before plotting the above data.\n",
        "# Initialize an ordered days name list.\n",
        "ordered_day_name_list = [\"Sunday\", \"Monday\" , \"Tuesday\" , \"Wednesday\" , \"Thursday\" , \"Friday\" , \"Saturday\"]\n",
        "\n",
        "# We can use categorical index function for ordering our data using the above list as a reference point.\n",
        "day_df.index = pd.CategoricalIndex(day_df['index'],categories=ordered_day_name_list,ordered=True)\n",
        "day_df = day_df.sort_index().reset_index(drop=True)\n",
        "day_df"
      ]
    },
    {
      "cell_type": "code",
      "source": [
        "df.tail()"
      ],
      "metadata": {
        "id": "2iSEIfDVwn-W"
      },
      "execution_count": null,
      "outputs": []
    },
    {
      "cell_type": "markdown",
      "source": [
        "### What all manipulations have you done and insights you found?"
      ],
      "metadata": {
        "id": "MSa1f5Uengrz"
      }
    },
    {
      "cell_type": "markdown",
      "source": [
        "•The data in this set comes from the United Kingdom. \n",
        "\n",
        "• There are 541909 rows and 8 columns in our data collection. \n",
        "\n",
        "• 'InvoiceNo', 'Stock Code', 'Description', and 'Country' are four categorical features. \n",
        "\n",
        "• There are missing data in the Description and CustomerID columns, and null values have been removed. \n",
        "\n",
        "• There are duplicate values, thus they've been removed. \n",
        "\n",
        "• 'InvoiceDate' is a Datetime[ns] feature.\n",
        "\n",
        "• Duplicate were removed & after dropping duplicates we can see that 5268 values got dropped which is nearly about ~1% of the original dataset.\n",
        "\n",
        "• After checking for the canceled orders in the dataset  we  found that 9219 (approx 1.72%) were such orders which was canceled.\n",
        "\n",
        " •There is 1336 rows having negative quantity and also order were not canceled.\n",
        " Also we see that, these cases are the ones where CustomerID values are NaNs. These cases were also removed from the data.\n",
        " \n",
        "• Customer ID has 134995 Nan Values & Description has 1454 Nan Values. Drop the Nan values to make data more cleaned. "
      ],
      "metadata": {
        "id": "dcEa9yG_8ZvE"
      }
    },
    {
      "cell_type": "markdown",
      "source": [
        "## ***4. Data Vizualization, Storytelling & Experimenting with charts : Understand the relationships between variables***"
      ],
      "metadata": {
        "id": "GF8Ens_Soomf"
      }
    },
    {
      "cell_type": "markdown",
      "source": [
        "#### Chart - 1 -Bar plot of number of unique values each column\n",
        "\n",
        "\n",
        "\n",
        "\n",
        "\n"
      ],
      "metadata": {
        "id": "0wOQAZs5pc--"
      }
    },
    {
      "cell_type": "code",
      "execution_count": null,
      "metadata": {
        "id": "eyH8jReUFLZD"
      },
      "outputs": [],
      "source": [
        "#Chart-1 visualization code\n",
        "# Plotting bar plot for number of unique values in each column\n",
        "\n",
        "unique_df=pd.DataFrame()\n",
        "unique_df['Features']=df.columns\n",
        "unique=[]\n",
        "for i in df.columns:\n",
        "  unique.append(df[i].nunique())\n",
        "unique_df['Uniques']=unique\n",
        "\n",
        "f, ax = plt.subplots(1,1, figsize=(15,7))\n",
        "\n",
        "splot = sns.barplot(x=unique_df['Features'], y=unique_df['Uniques'], alpha=0.8)\n",
        "for p in splot.patches:\n",
        "    splot.annotate(format(p.get_height(), '.0f'), (p.get_x() + p.get_width() / 2., p.get_height()), ha = 'center',\n",
        "                   va = 'center', xytext = (0, 9), textcoords = 'offset points')\n",
        "plt.title('Bar plot for number of unique values in each column',weight='bold', size=15)\n",
        "plt.ylabel('#Unique values', size=12, weight='bold')\n",
        "plt.xlabel('Features', size=12, weight='bold')\n",
        "plt.xticks(rotation=90)\n",
        "plt.show()"
      ]
    },
    {
      "cell_type": "markdown",
      "source": [
        "**As we can see 'InvoiceNo' and 'InvoiceDate' have highest no. of unique values.**"
      ],
      "metadata": {
        "id": "et-wWZJ8eexa"
      }
    },
    {
      "cell_type": "markdown",
      "source": [
        "#### Chart - 2 - Line plot on customer distribution in 1 year time period"
      ],
      "metadata": {
        "id": "Of3PJYNbrGff"
      }
    },
    {
      "cell_type": "code",
      "execution_count": null,
      "metadata": {
        "id": "o09BVe3zL1Sq"
      },
      "outputs": [],
      "source": [
        "## customer distribution in 1 year time period\n",
        "sns.set_style('whitegrid')\n",
        "plt.rcParams['font.size'] = 10\n",
        "plt.rcParams['figure.figsize'] = (15,10)\n",
        "\n",
        "customer_distribution = df.groupby('InvoiceDate').count()['CustomerID'].reset_index()\n",
        "customer_distribution\n",
        "sns.lineplot(data=customer_distribution , x=\"InvoiceDate\"  , y=\"CustomerID\" ).set(title = \"Distribution of customers Over period of 1 year\")\n",
        "plt.show()"
      ]
    },
    {
      "cell_type": "markdown",
      "source": [
        "#####  What is/are the insight(s) found from the chart?"
      ],
      "metadata": {
        "id": "HZ6txCBBrGfh"
      }
    },
    {
      "cell_type": "markdown",
      "source": [
        "**From the plot we can see that more number of custromers have transactioned in the month of November 2011.Comparitively less customers have trasactioned in the  remaining months.**"
      ],
      "metadata": {
        "id": "9X7Ff9HFrGfh"
      }
    },
    {
      "cell_type": "markdown",
      "source": [
        "#####  Will the gained insights help creating a positive business impact? \n",
        "Are there any insights that lead to negative growth? Justify with specific reason."
      ],
      "metadata": {
        "id": "jbkhcZqdrGfh"
      }
    },
    {
      "cell_type": "markdown",
      "source": [
        "**Yes,the gained insight will definetly help the online store to have knowldge on the months in which more tranactioned has happened and the months in which less transactions has happened,to dig out the reason behind the reason as to why there was less sales in many of the months.**"
      ],
      "metadata": {
        "id": "sZjMyjAHrGfh"
      }
    },
    {
      "cell_type": "markdown",
      "source": [
        "#### Chart - 3 - Bar plot on the  countries and their transaction percentage(Bivariate)"
      ],
      "metadata": {
        "id": "riLp7y9brHca"
      }
    },
    {
      "cell_type": "code",
      "source": [
        "\n",
        "# Figure Size\n",
        "plt.figure(figsize=(15,8))\n",
        "\n",
        "## Define x and y axis\n",
        "x=Top_10_country['Country']\n",
        "y=Top_10_country['Country_percent']\n",
        "\n",
        "# creating the bar plot\n",
        "plt.bar(x,y)\n",
        "\n",
        "## Function to set label\n",
        "def addlabels(x,y):\n",
        "    for i in range(len(x)):\n",
        "        plt.text(i,y[i],y[i])\n",
        "\n",
        "addlabels(x,round(y,2))\n",
        "\n",
        "# set xlabel. ylabel and title\n",
        "plt.xlabel(\"Country\", size=20)\n",
        "plt.ylabel(\"% Order\", size=20)\n",
        "plt.title(\"% Order from each Country\", size=30)\n",
        "\n",
        "## Showing the plot\n",
        "plt.show()"
      ],
      "metadata": {
        "id": "LxF-l_O8JOgp"
      },
      "execution_count": null,
      "outputs": []
    },
    {
      "cell_type": "markdown",
      "source": [
        "##### What is/are the insight(s) found from the chart?"
      ],
      "metadata": {
        "id": "VSZ9TvpKW_qy"
      }
    },
    {
      "cell_type": "markdown",
      "source": [
        "**From the plot , it is evident that the country United Kingdom has the highest transaction percentage followed by Germany and France .The country Australia has the least transaction percentage.**"
      ],
      "metadata": {
        "id": "lwSKo83XW_qz"
      }
    },
    {
      "cell_type": "markdown",
      "source": [],
      "metadata": {
        "id": "M8XFFwdHH1QF"
      }
    },
    {
      "cell_type": "markdown",
      "source": [
        "#### Chart - 4 - Bar plot on Customer Data(Univariate)"
      ],
      "metadata": {
        "id": "xnMZvg2orIPt"
      }
    },
    {
      "cell_type": "code",
      "execution_count": null,
      "metadata": {
        "id": "M9-dA3FguyhX"
      },
      "outputs": [],
      "source": [
        "customer_df = df.copy()"
      ]
    },
    {
      "cell_type": "code",
      "execution_count": null,
      "metadata": {
        "id": "YhB-LLbOuzl1"
      },
      "outputs": [],
      "source": [
        "customer_df['amount'] = customer_df.Quantity*customer_df.UnitPrice"
      ]
    },
    {
      "cell_type": "code",
      "execution_count": null,
      "metadata": {
        "id": "UQyhRVFNu25w"
      },
      "outputs": [],
      "source": [
        "customer_df.head()"
      ]
    },
    {
      "cell_type": "code",
      "execution_count": null,
      "metadata": {
        "id": "BNWwiXBj4TXR"
      },
      "outputs": [],
      "source": [
        "#plotting the bar plot\n",
        "PercentSales = customer_df.groupby([\"CustomerID\"]).amount.sum().sort_values(ascending = False).iloc[:20].reset_index()\n",
        "PercentSales.head(10)\n"
      ]
    },
    {
      "cell_type": "code",
      "execution_count": null,
      "metadata": {
        "id": "98OthCUM7Cni"
      },
      "outputs": [],
      "source": [
        "sns.set(rc={'figure.figsize':(18,8)})\n",
        "\n",
        "\n",
        "sns.barplot(x=\"CustomerID\", y=\"amount\", data=PercentSales, order=PercentSales['CustomerID'])"
      ]
    },
    {
      "cell_type": "markdown",
      "source": [
        "#####  What is/are the insight(s) found from the chart?"
      ],
      "metadata": {
        "id": "mi3sthCLZxou"
      }
    },
    {
      "cell_type": "markdown",
      "source": [
        "**Most Amount is spent by customerID (14646.0) which is more than 250000 followed by customerID (18102.0) which is also more than 250000.**\n",
        "\n",
        "**Least amount is spent by customer with id 13798 which is less than 50,000**"
      ],
      "metadata": {
        "id": "e8B_a40jZ6Az"
      }
    },
    {
      "cell_type": "markdown",
      "source": [],
      "metadata": {
        "id": "9KIYhQFEIMw_"
      }
    },
    {
      "cell_type": "markdown",
      "source": [
        "####Chart - 5 Bar plot on Top Products. "
      ],
      "metadata": {
        "id": "vk75tLKnrUy_"
      }
    },
    {
      "cell_type": "code",
      "source": [
        "# Plotting a graph for top 10 products\n",
        "AmoutSum = customer_df.groupby([\"Description\"]).amount.sum().sort_values(ascending = False)\n",
        "inv = customer_df[[\"Description\", \"InvoiceNo\"]].groupby([\"Description\"]).InvoiceNo.unique().\\\n",
        "      agg(np.size).sort_values(ascending = False)\n",
        "\n",
        "fig = plt.figure(figsize=(30, 6))\n",
        "f1 = fig.add_subplot(121)\n",
        "Top10 = list(AmoutSum[:10].index)\n",
        "PercentSales =  np.round((AmoutSum[Top10].sum()/AmoutSum.sum()) * 100, 2)\n",
        "\n",
        "g = AmoutSum[Top10].\\\n",
        "    plot(kind='bar', title='Top 10 Products in Sales Amount: {:3.2f}% of Amount'.\\\n",
        "                       format(PercentSales))"
      ],
      "metadata": {
        "id": "BIKEKoqErIPu"
      },
      "execution_count": null,
      "outputs": []
    },
    {
      "cell_type": "markdown",
      "source": [
        "#####  What is/are the insight(s) found from the chart?"
      ],
      "metadata": {
        "id": "Kwy5hImkrIPu"
      }
    },
    {
      "cell_type": "markdown",
      "source": [
        "**From the plot , we can see that the most common product which is sold is \"Dotcom Postage\" where as the least popular product which is not sold is \"Chilli Lights\"**\n",
        "\n",
        "\n",
        "**This gained insight will definetly help the store representatives can get an idea of what all products are getting sold at a fater rate and the products which are not getting sold.This will  help in improving the quality of the products and upselling them.**"
      ],
      "metadata": {
        "id": "v29pTB30rIPu"
      }
    },
    {
      "cell_type": "markdown",
      "source": [
        "#### Chart - 6 - chart on top 10 countries with cancellation order"
      ],
      "metadata": {
        "id": "y7avNpR9HL5z"
      }
    },
    {
      "cell_type": "code",
      "execution_count": null,
      "metadata": {
        "id": "dmXRA_gi_725"
      },
      "outputs": [],
      "source": [
        "# String to be searched in start of string \n",
        "search =\"C\"\n",
        "  \n",
        "# boolean series returned with False at place of NaN\n",
        "series = df[\"InvoiceNo\"].str.startswith(search, na=False)\n",
        "  \n",
        "# displaying filtered dataframe\n",
        "cancel_order = df[series]\n",
        "\n",
        "cancel_order.head()"
      ]
    },
    {
      "cell_type": "code",
      "execution_count": null,
      "metadata": {
        "id": "ZYXJnrEv_726"
      },
      "outputs": [],
      "source": [
        "# Checking the shape of the cancelled order dataset\n",
        "cancel_order.shape"
      ]
    },
    {
      "cell_type": "markdown",
      "source": [
        "#### **Chart 7 - Pie chart on the number of cancellations for products**"
      ],
      "metadata": {
        "id": "HSUK_ecmIrfu"
      }
    },
    {
      "cell_type": "code",
      "source": [
        "#Claculating which product has the most number of cancellations.\n",
        "product_cancellation_data = cancel_order['Description'].value_counts().reset_index().head(10)\n",
        "product_cancellation_data"
      ],
      "metadata": {
        "id": "XJ8mvyWpYFJB"
      },
      "execution_count": null,
      "outputs": []
    },
    {
      "cell_type": "code",
      "source": [
        "# Plotting the no. of cancellations for products using a pie chart.\n",
        "plt.figure(figsize=(10,10))\n",
        "labels=product_cancellation_data['index']                                                    \n",
        "\n",
        "explode=[0.03]*len(product_cancellation_data.index)                                          \n",
        "plt.pie(product_cancellation_data['Description'],explode = explode ,autopct='%1.2f%%')       \n",
        "plt.legend(labels, loc='best')                                                               \n",
        "\n",
        "# Setting the title.\n",
        "plt.title('Top 10 Products with most number of cancellations.', fontsize=16)"
      ],
      "metadata": {
        "id": "Ftd7eqlTYdEg"
      },
      "execution_count": null,
      "outputs": []
    },
    {
      "cell_type": "markdown",
      "source": [
        "##### **Chart 8 - Number of canceled orders per country.**"
      ],
      "metadata": {
        "id": "DTcFG1YnKt4E"
      }
    },
    {
      "cell_type": "code",
      "source": [
        "cancel_top10 = cancel.sort_values('InvoiceNo',ascending=False, ignore_index=True).head(10)\n",
        "cancel_top10"
      ],
      "metadata": {
        "id": "Ede_nVrQbK4c"
      },
      "execution_count": null,
      "outputs": []
    },
    {
      "cell_type": "code",
      "source": [
        "plt.figure(figsize=(12, 6))\n",
        "sns.barplot(data=cancel_top10, x='Country', y='InvoiceNo')\n",
        "plt.xlabel('Country')\n",
        "plt.ylabel('Number of Canceled Orders')\n",
        "plt.title('Number of Canceled Orders per Country')\n",
        "\n",
        "# Rotating x-axis labels for better readability if needed\n",
        "plt.xticks(rotation=45)\n",
        "\n",
        "# Displaying the plot\n",
        "plt.show()"
      ],
      "metadata": {
        "id": "9vVRYoZJbRH3"
      },
      "execution_count": null,
      "outputs": []
    },
    {
      "cell_type": "code",
      "execution_count": null,
      "metadata": {
        "id": "aX2JxG9Y_726"
      },
      "outputs": [],
      "source": [
        "# Checking the percentage of no. of orders cancelled \n",
        "cancel_percentage = cancel_order['InvoiceNo'].count()*100/df['InvoiceNo'].count()\n",
        "cancel_percentage"
      ]
    },
    {
      "cell_type": "markdown",
      "source": [
        "##### What is/are the insight(s) found from the chart?"
      ],
      "metadata": {
        "id": "3vIdo55JHL50"
      }
    },
    {
      "cell_type": "markdown",
      "source": [
        "Above chart depicts the number of cancellations via product. We can clearly see from the above chart that Manual  and Regency Cakestand Tier 3  are the most cancelled products.\n",
        "\n",
        "Most cancellations have been done by residents of United Kingdom followed by Germany and EIRE (Republic of Ireland)."
      ],
      "metadata": {
        "id": "KfFAQw56aPOd"
      }
    },
    {
      "cell_type": "markdown",
      "source": [
        "#### **Chart - 9 - Bar plot on Monthly sales data.**"
      ],
      "metadata": {
        "id": "C8PG_llcG1zW"
      }
    },
    {
      "cell_type": "code",
      "source": [
        "# Plotting the monthly sales data using a barplot.\n",
        "fig, ax = plt.subplots(figsize = (16,7))\n",
        "sns.barplot(x='index', y='Month', data=month_df, edgecolor='brown',lw=3)\n",
        "\n",
        "# Setting the title and the x,y labels.\n",
        "plt.title('Monthly Sales data', fontsize= 16)\n",
        "plt.xlabel('Month of the Year', fontsize=14)\n",
        "plt.ylabel('No. of orders', fontsize=14)\n",
        "\n",
        "# Annotating the bars with the numbers they represent.\n",
        "for p in ax.patches:                               \n",
        "    height = p.get_height()\n",
        "    ax.text(p.get_x()+p.get_width()/2, height+800, '{:1.0f}'.format(height),ha = \"center\", fontsize=14)\n"
      ],
      "metadata": {
        "id": "o82Rk8XCG_yS"
      },
      "execution_count": null,
      "outputs": []
    },
    {
      "cell_type": "markdown",
      "source": [
        "##### What is/are the insight(s) found from the chart?"
      ],
      "metadata": {
        "id": "ZOs2MEBKMNTV"
      }
    },
    {
      "cell_type": "markdown",
      "source": [
        "We can clearly say from the above graph that the winter months have the highest sales with November and October having the highest and second highest sales respectively."
      ],
      "metadata": {
        "id": "qOIr97PeHaA_"
      }
    },
    {
      "cell_type": "markdown",
      "source": [
        "#### Chart - 10 - Heatmap on day wise order placement trend"
      ],
      "metadata": {
        "id": "ruTIQ6ogIbK2"
      }
    },
    {
      "cell_type": "code",
      "source": [
        "# Plotting this daily sales data.\n",
        "plt.figure(figsize=(12,6))\n",
        "sns.pointplot(x=day_df['index'], y=day_df['Day'], color='purple')\n",
        "\n",
        "# Setting the title and x,y labels.\n",
        "plt.title('Day-wise order placement data.', fontsize=16)\n",
        "plt.xlabel('Day of the week', fontsize=14)\n",
        "plt.ylabel('Number of orders placed', fontsize=14)\n"
      ],
      "metadata": {
        "id": "mnZgDpTRIZoQ"
      },
      "execution_count": null,
      "outputs": []
    },
    {
      "cell_type": "code",
      "execution_count": null,
      "metadata": {
        "id": "BQYwcn42P9v6"
      },
      "outputs": [],
      "source": [
        "# Checking for correlation in our data.\n",
        "plt.figure(figsize=(14,7))\n",
        "sns.heatmap(df.corr(), annot=True, cmap='coolwarm')"
      ]
    },
    {
      "cell_type": "markdown",
      "source": [
        "##### What is/are the insight(s) found from the chart?"
      ],
      "metadata": {
        "id": "BL6_QniuMwcd"
      }
    },
    {
      "cell_type": "markdown",
      "source": [
        "We can clearly see from the above graph that most orders were placed on Thursdays and there were no orders placed on Saturdays."
      ],
      "metadata": {
        "id": "lAtv6pRZIsA0"
      }
    },
    {
      "cell_type": "markdown",
      "source": [
        "## ***5. Feature Engineering & Data Pre-processing***"
      ],
      "metadata": {
        "id": "yLjJCtPM0KBk"
      }
    },
    {
      "cell_type": "code",
      "source": [
        "# Creating a copy of the dataset for further feature engineering\n",
        "df=df.copy()"
      ],
      "metadata": {
        "id": "nEQ5IKIFtrok"
      },
      "execution_count": null,
      "outputs": []
    },
    {
      "cell_type": "markdown",
      "source": [
        "### 1. Handling Missing Values"
      ],
      "metadata": {
        "id": "xiyOF9F70UgQ"
      }
    },
    {
      "cell_type": "code",
      "source": [
        "# Handling Missing Values & Missing Value Imputation\n",
        "# Missing Values/Null Values Count\n",
        "print(df.isnull().sum())\n",
        "\n",
        "# Visualizing the missing values\n",
        "# Checking Null Value by plotting Heatmap\n",
        "sns.heatmap(df.isnull(), cbar=False)"
      ],
      "metadata": {
        "id": "iRsAHk1K0fpS"
      },
      "execution_count": null,
      "outputs": []
    },
    {
      "cell_type": "markdown",
      "metadata": {
        "id": "c7uWPIP9_mS7"
      },
      "source": [
        "As we can see that there are some null values in description column and quite a lot of null values in our CustomerId column. We need to deal with these null values otherwise they will have an adverse impact on our modelling process. And seeing as our goal is to customer segmentation, we can't just impute values for customerId. So we will have to drop these null values."
      ]
    },
    {
      "cell_type": "code",
      "execution_count": null,
      "metadata": {
        "id": "8rYIgvlm_vcX"
      },
      "outputs": [],
      "source": [
        "df.dropna(inplace=True)"
      ]
    },
    {
      "cell_type": "markdown",
      "metadata": {
        "id": "7cQa0prOxq4A"
      },
      "source": [
        "##***6. Create The RFM model (Recency, Frequency & Monetary value)***\n"
      ]
    },
    {
      "cell_type": "markdown",
      "metadata": {
        "id": "O-8DPxgSLZEo"
      },
      "source": [
        "\n",
        "**RFM stands for recency, frequency, monetary value. These parameters are usually used to give us an idea of who our best customers are and customers who we are at risk of losing.**\n",
        "\n",
        "Recency: How recently a customer has made a purchase.\n",
        "\n",
        "Frequency: How often a customer makes a purchase.\n",
        "\n",
        "Monetary Value: How much money a customer spends on\n",
        "\n",
        "**Performing RFM Segmentation and RFM Analysis, Step by Step**\n",
        "\n",
        "\n",
        "The first step in building an RFM model is to assign Recency, Frequency and Monetary values to each customer. ... The second step is to divide the customer list into tiered groups for each of the three dimensions (R, F and M).\n",
        "\n",
        "\n",
        "###**Recency**"
      ]
    },
    {
      "cell_type": "markdown",
      "metadata": {
        "id": "mS-_TgiQe4we"
      },
      "source": [
        "To create a Recency feature variable, we need to decide the reference date for analysis and we will define the reference date as one day after the last transaction."
      ]
    },
    {
      "cell_type": "code",
      "source": [
        "ref_date = df.InvoiceDate.max()\n",
        "\n",
        "#timedelta function returns to total number of seconds\n",
        "ref_date = ref_date + datetime.timedelta(days=1)\n",
        "\n",
        "print(df.InvoiceDate.max(), df.InvoiceDate.min())\n",
        "ref_date"
      ],
      "metadata": {
        "id": "WrRCH6EbN-aO"
      },
      "execution_count": null,
      "outputs": []
    },
    {
      "cell_type": "markdown",
      "source": [
        "#### **Recency**"
      ],
      "metadata": {
        "id": "TEu0X_LNOvtD"
      }
    },
    {
      "cell_type": "markdown",
      "metadata": {
        "id": "vhN12wLO7u1_"
      },
      "source": [
        "We will construct a reference variable as number of days after the reference date when a customer last made a purchase."
      ]
    },
    {
      "cell_type": "code",
      "execution_count": null,
      "metadata": {
        "id": "Gvc3HynDh60-"
      },
      "outputs": [],
      "source": [
        "df['days_since_last_purchase'] = ref_date- df.InvoiceDate\n",
        "df['days_since_last_purchase_num'] = df['days_since_last_purchase'].astype('timedelta64[D]')\n",
        "df['days_since_last_purchase_num'].head() "
      ]
    },
    {
      "cell_type": "code",
      "execution_count": null,
      "metadata": {
        "id": "GczKuu2Q7yNl"
      },
      "outputs": [],
      "source": [
        "customer_history_df = df.groupby('CustomerID')['days_since_last_purchase_num'].min().reset_index()\n",
        "customer_history_df.rename(columns={'days_since_last_purchase_num':'Recency'}, inplace=True)\n",
        "customer_history_df.head()"
      ]
    },
    {
      "cell_type": "code",
      "execution_count": null,
      "metadata": {
        "id": "82tFg17K7-Kh"
      },
      "outputs": [],
      "source": [
        "customer_history_df.describe()"
      ]
    },
    {
      "cell_type": "markdown",
      "metadata": {
        "id": "PqbIKIcd8NDY"
      },
      "source": [
        "####**Monetary**\n"
      ]
    },
    {
      "cell_type": "markdown",
      "metadata": {
        "id": "cKkw7CCmfQWP"
      },
      "source": [
        "Monetary value refers to how much a customer spends on each transaction, and is usually measured by summing up the total value of their transactions."
      ]
    },
    {
      "cell_type": "code",
      "execution_count": null,
      "metadata": {
        "id": "6q0bKb-98Lll"
      },
      "outputs": [],
      "source": [
        "df['Monetary'] = df['Quantity']*df['UnitPrice']"
      ]
    },
    {
      "cell_type": "code",
      "execution_count": null,
      "metadata": {
        "id": "DTKwNKTi8cTL"
      },
      "outputs": [],
      "source": [
        "customer_monetary_val = df[['CustomerID','Monetary']].groupby('CustomerID').sum().reset_index()\n",
        "customer_monetary_val.head()"
      ]
    },
    {
      "cell_type": "code",
      "execution_count": null,
      "metadata": {
        "id": "8bUrQqIR_QMT"
      },
      "outputs": [],
      "source": [
        "customer_history_df=customer_history_df.merge(customer_monetary_val,how='outer')\n",
        "customer_history_df.head()"
      ]
    },
    {
      "cell_type": "markdown",
      "metadata": {
        "id": "o4oPU-CXejAh"
      },
      "source": [
        "###**Frequency**\n"
      ]
    },
    {
      "cell_type": "markdown",
      "metadata": {
        "id": "8OGsrRilfME7"
      },
      "source": [
        "Frequency refers to how often a customer makes a purchase, and is usually measured by counting the number of transactions they have made."
      ]
    },
    {
      "cell_type": "code",
      "execution_count": null,
      "metadata": {
        "id": "6AIaAcIs_ToL"
      },
      "outputs": [],
      "source": [
        "customer_freq = df[['CustomerID','Monetary']].groupby('CustomerID').count().reset_index()\n",
        "customer_freq.rename(columns={'Monetary':'Frequency'},inplace=True)\n",
        "customer_freq.head()"
      ]
    },
    {
      "cell_type": "code",
      "execution_count": null,
      "metadata": {
        "id": "mqTJP2Pq_X5L"
      },
      "outputs": [],
      "source": [
        "customer_history_df=customer_history_df.merge(customer_freq,how='outer')\n",
        "customer_history_df.head()"
      ]
    },
    {
      "cell_type": "code",
      "execution_count": null,
      "metadata": {
        "id": "i0JXJK3Cg5qn"
      },
      "outputs": [],
      "source": [
        "customer_history_df"
      ]
    },
    {
      "cell_type": "markdown",
      "metadata": {
        "id": "9Asrpq7v3grR"
      },
      "source": [
        "\n",
        "\n",
        "##***8. Checking outliers by plotting Box Plot for R-F-M (Recency, Frequency & Monetary).***"
      ]
    },
    {
      "cell_type": "code",
      "execution_count": null,
      "metadata": {
        "id": "WDslQ-5VBZun"
      },
      "outputs": [],
      "source": [
        "# Box plot of Recency\n",
        "plt.rcParams['figure.figsize'] = [10,8]\n",
        "sns.boxplot(x = customer_history_df['Recency'], orient=\"v\", palette=\"Set1\" ,whis=1.5,saturation=1, width=0.7)\n",
        "plt.title(\"Outliers Variable Distribution\", fontsize = 14, fontweight = 'bold')\n",
        "plt.ylabel(\"Range\", fontweight = 'bold')\n",
        "plt.xlabel(\"Attribute - Recency\", fontweight = 'bold')"
      ]
    },
    {
      "cell_type": "code",
      "execution_count": null,
      "metadata": {
        "id": "81FQzCiM36AT"
      },
      "outputs": [],
      "source": [
        "# Box plot of Monetary\n",
        "plt.rcParams['figure.figsize'] = [10,8]\n",
        "sns.boxplot(x = customer_history_df['Monetary'], orient=\"v\", palette=\"Set1\" ,whis=1.5,saturation=1, width=0.7)\n",
        "plt.title(\"Outliers Variable Distribution\", fontsize = 14, fontweight = 'bold')\n",
        "plt.ylabel(\"Range\", fontweight = 'bold')\n",
        "plt.xlabel(\"Attribute - Monetary\", fontweight = 'bold')"
      ]
    },
    {
      "cell_type": "code",
      "execution_count": null,
      "metadata": {
        "id": "tupIQPCSHEXZ"
      },
      "outputs": [],
      "source": [
        "# Box plot of Frequency\n",
        "plt.rcParams['figure.figsize'] = [10,8]\n",
        "sns.boxplot(x = customer_history_df['Frequency'], orient=\"v\", palette=\"Set1\" ,whis=1.5,saturation=1, width=0.7)\n",
        "plt.title(\"Outliers Variable Distribution\", fontsize = 14, fontweight = 'bold')\n",
        "plt.ylabel(\"Range\", fontweight = 'bold')\n",
        "plt.xlabel(\"Attribute - Frequency\", fontweight = 'bold')"
      ]
    },
    {
      "cell_type": "markdown",
      "metadata": {
        "id": "zqglKxOXHcFG"
      },
      "source": [
        "**Removing Outliers by using IQR process**\n"
      ]
    },
    {
      "cell_type": "code",
      "execution_count": null,
      "metadata": {
        "id": "dla7BG3_HUaz"
      },
      "outputs": [],
      "source": [
        "# removing (statistical) outliers\n",
        "Q1 = customer_history_df.Monetary.quantile(0.05)\n",
        "Q3 = customer_history_df.Monetary.quantile(0.95)\n",
        "IQR = Q3 - Q1\n",
        "customer_history_df = customer_history_df[(customer_history_df.Monetary >= Q1 - 1.5*IQR) & (customer_history_df.Monetary <= Q3 + 1.5*IQR)]\n",
        "\n",
        "# outlier treatment for recency\n",
        "Q1 = customer_history_df.Recency.quantile(0.05)\n",
        "Q3 = customer_history_df.Recency.quantile(0.95)\n",
        "IQR = Q3 - Q1\n",
        "customer_history_df = customer_history_df[(customer_history_df.Recency >= Q1 - 1.5*IQR) & (customer_history_df.Recency <= Q3 + 1.5*IQR)]\n",
        "\n",
        "# outlier treatment for frequency\n",
        "Q1 = customer_history_df.Frequency.quantile(0.05)\n",
        "Q3 = customer_history_df.Frequency.quantile(0.95)\n",
        "IQR = Q3 - Q1\n",
        "customer_history_df = customer_history_df[(customer_history_df.Frequency >= Q1 - 1.5*IQR) & (customer_history_df.Frequency <= Q3 + 1.5*IQR)]"
      ]
    },
    {
      "cell_type": "markdown",
      "source": [
        "###  Data Scaling"
      ],
      "metadata": {
        "id": "rMDnDkt2B6du"
      }
    },
    {
      "cell_type": "code",
      "execution_count": null,
      "metadata": {
        "id": "NCxtrApfHj9K"
      },
      "outputs": [],
      "source": [
        "# Scaling\n",
        "rfm_df = customer_history_df[['Monetary', 'Frequency', 'Recency']]\n",
        "\n",
        "# instantiate\n",
        "scaler = StandardScaler()\n",
        "\n",
        "# fit_transform\n",
        "rfm_df_scaled = scaler.fit_transform(rfm_df)\n",
        "rfm_df_scaled.shape"
      ]
    },
    {
      "cell_type": "code",
      "execution_count": null,
      "metadata": {
        "id": "GT_PjukIHqYu"
      },
      "outputs": [],
      "source": [
        "rfm_df_scaled = pd.DataFrame(rfm_df_scaled)\n",
        "rfm_df_scaled.columns = ['Monetary', 'Frequency', 'Recency']\n",
        "rfm_df_scaled.head()"
      ]
    },
    {
      "cell_type": "markdown",
      "source": [
        "##### Which method have you used to scale you data and why?"
      ],
      "metadata": {
        "id": "yiiVWRdJDDil"
      }
    },
    {
      "cell_type": "markdown",
      "source": [
        "When we are using an algorithm that assumes our features have a similar range, we should use feature scaling.\n",
        "\n",
        "If the ranges of your features differ much then you should use feature scaling. If the range does not vary a lot like one of them is between 0 and 2 and the other one is between -1 and 0.5 then you can leave them as it's. However, you should use feature scaling if the ranges are, for example, between -2 and 2 and between -100 and 100.\n",
        "\n",
        "Since the data set has a range of values , I have used Standard scalar for standardization.When we use standardization each feature will be converted to have  have zero-mean, unit standard-deviation\n",
        "\n"
      ],
      "metadata": {
        "id": "-_-SaQemdYeu"
      }
    },
    {
      "cell_type": "code",
      "execution_count": null,
      "metadata": {
        "id": "Ze6KjsQ7HuRm"
      },
      "outputs": [],
      "source": [
        "# Importing Library for 3D plot\n",
        "from mpl_toolkits.mplot3d import Axes3D\n",
        "\n",
        "# set fig size\n",
        "fig=plt.figure(figsize=(12,10))\n",
        "\n",
        "# syntax for 3-D plotting\n",
        "ax=fig.add_subplot(111,projection='3d')\n",
        "\n",
        "# syntax for plotting\n",
        "xs = rfm_df_scaled.Recency\n",
        "ys = rfm_df_scaled.Frequency\n",
        "zs = rfm_df_scaled.Monetary\n",
        "ax.scatter(xs,ys,zs,s=6, color='red') \n",
        "\n",
        "# set x, y & z label\n",
        "ax.set_xlabel('Recency')\n",
        "ax.set_ylabel('Frequency')\n",
        "ax.set_zlabel('Monetary value')\n",
        "\n",
        "# show the plot\n",
        "plt.show()"
      ]
    },
    {
      "cell_type": "markdown",
      "source": [
        "## ***9. ML Model Implementation***"
      ],
      "metadata": {
        "id": "VfCC591jGiD4"
      }
    },
    {
      "cell_type": "markdown",
      "source": [
        "### ML Model - 1 - **Implementing K Means Clustering**"
      ],
      "metadata": {
        "id": "peAK6Cc_HQeo"
      }
    },
    {
      "cell_type": "markdown",
      "metadata": {
        "id": "0K_hAevvMxDB"
      },
      "source": [
        "**K-means is a popular clustering algorithm that partitions a dataset into k distinct clusters based on the similarity of data points. It iteratively assigns data points to the nearest centroid and updates the centroids until convergence, aiming to minimize the within-cluster sum of squared distances.**\n",
        "\n",
        "**Silhouette analysis on K-Means Clustering-**\n",
        "\n",
        "Silhouette analysis can be used to study the separation distance between the resulting clusters, as a strategy to quantifying the quality of clustering via graphical tool to plot a measure of how tightly grouped the samples in the clusters are. The silhouette plot displays a measure of how close each point in one cluster is to points in the neighboring clusters and thus provides a way to assess parameters like number of clusters visually.\n",
        "\n",
        "Let's see below how our data perform for each K clusters groups (3, 5 and 7) in the silhouette score of each cluster, along with the center of each of the cluster discovered in the scatter plots, by amount_log vs recency_log and vs frequency_log.\n",
        "\n",
        "**Silhouette Analysis**\n",
        "\n",
        "**silhouette score** = (p-q)/max(p,q)\n",
        "\n",
        "**p** is the mean distance to the points in the nearest cluster that the data point is not a part of\n",
        "\n",
        "**q** is the mean intra-cluster distance to all the points in its own cluster.\n",
        "\n",
        "The value of the silhouette score range lies between -1 to 1.\n",
        "\n",
        "Score closer to 1 indicates that the data point is very similar to other data points in the cluster,\n",
        "\n",
        "Score closer to -1 indicates that the data point is not similar to the data points in its cluster.\n"
      ]
    },
    {
      "cell_type": "code",
      "execution_count": null,
      "metadata": {
        "id": "_zAF_ZW2H5Iz"
      },
      "outputs": [],
      "source": [
        "silhouette_model = SilhouetteVisualizer(KMeans(3))\n",
        "silhouette_model.fit(rfm_df_scaled)"
      ]
    },
    {
      "cell_type": "code",
      "execution_count": null,
      "metadata": {
        "id": "rJFl7ejlSAuv"
      },
      "outputs": [],
      "source": [
        "silhouette_model = SilhouetteVisualizer(KMeans(4))\n",
        "silhouette_model.fit(rfm_df_scaled)"
      ]
    },
    {
      "cell_type": "code",
      "execution_count": null,
      "metadata": {
        "id": "qJo0vTYFSKjX"
      },
      "outputs": [],
      "source": [
        "silhouette_model = SilhouetteVisualizer(KMeans(5))\n",
        "silhouette_model.fit(rfm_df_scaled)"
      ]
    },
    {
      "cell_type": "markdown",
      "metadata": {
        "id": "S7mBCJkczylQ"
      },
      "source": [
        "#### **Finding best value for K**\n"
      ]
    },
    {
      "cell_type": "markdown",
      "metadata": {
        "id": "GaGDm8JQxzF9"
      },
      "source": [
        "A fundamental step for any unsupervised algorithm is to determine the optimal number of clusters into which the data may be clustered.\n",
        "\n",
        "**The Elbow Method**\n",
        "\n",
        "\n",
        "Using the elbow method to find the optimal number of clusters. The idea behind the elbow method is to identify the value of k where the distortion begins to increase most rapidly. If k increases, the distortion will decrease, because the samples will be closer to the centroids they are assigned to.\n",
        "\n",
        "\n"
      ]
    },
    {
      "cell_type": "code",
      "execution_count": null,
      "metadata": {
        "id": "BQFtHx8pSOE8"
      },
      "outputs": [],
      "source": [
        "# elbow-curve/SSD\n",
        "elbow_curve = []\n",
        "range_n_clusters = [2, 3, 4, 5, 6, 7, 8] \n",
        "for k in range_n_clusters:\n",
        "    kmeans = KMeans(n_clusters=k, max_iter=50)\n",
        "    kmeans.fit(rfm_df_scaled)\n",
        "    \n",
        "    elbow_curve.append(kmeans.inertia_)\n",
        "    \n",
        "# plot the SSDs for each n_clusters\n",
        "# ssd\n",
        "plt.plot(elbow_curve)\n",
        "\n"
      ]
    },
    {
      "cell_type": "markdown",
      "metadata": {
        "id": "IYCtigzYJgra"
      },
      "source": [
        "**From the above plot, we can see that the optimal number of clusters is 3 or 4.**\n",
        "\n",
        "**Also It seems that we get a more detailed distribution of our customer base using k=3. However, this may not be a very visually appealing method to extract insights.**\n"
      ]
    },
    {
      "cell_type": "code",
      "execution_count": null,
      "metadata": {
        "id": "HM4xKWXl1e6X"
      },
      "outputs": [],
      "source": [
        "# silhouette analysis\n",
        "i = [2, 3, 4, 5, 6, 7, 8]\n",
        "\n",
        "for k in i:\n",
        "    \n",
        "    # intialise kmeans\n",
        "    kmeans = KMeans(n_clusters=k, max_iter=50)\n",
        "    kmeans.fit(rfm_df_scaled)\n",
        "    \n",
        "    cluster_labels = kmeans.labels_\n",
        "    \n",
        "    # silhouette score\n",
        "    silhouette_avg = silhouette_score(rfm_df_scaled, cluster_labels)\n",
        "    print(\"For n_clusters={0}, the silhouette score is {1}\".format(k, silhouette_avg))"
      ]
    },
    {
      "cell_type": "code",
      "execution_count": null,
      "metadata": {
        "id": "IFSt16Ct-vez"
      },
      "outputs": [],
      "source": [
        "# final model with k=3\n",
        "kmeans = KMeans(n_clusters=3, max_iter=50)\n",
        "kmeans.fit(rfm_df_scaled)"
      ]
    },
    {
      "cell_type": "code",
      "execution_count": null,
      "metadata": {
        "id": "9p5xPt19ysQ8"
      },
      "outputs": [],
      "source": [
        "kmeans.labels_"
      ]
    },
    {
      "cell_type": "code",
      "execution_count": null,
      "metadata": {
        "id": "lWaWj4Gly2CW"
      },
      "outputs": [],
      "source": [
        "# assign the label\n",
        "customer_history_df['cluster_id'] = kmeans.labels_\n",
        "customer_history_df.head()\n"
      ]
    },
    {
      "cell_type": "markdown",
      "metadata": {
        "id": "VOvBCO3DzeC5"
      },
      "source": [
        "####**Creating Box Plot for R-M-F with respect to Cluster_id.**"
      ]
    },
    {
      "cell_type": "code",
      "execution_count": null,
      "metadata": {
        "id": "UR2HCq7ZzDeZ"
      },
      "outputs": [],
      "source": [
        "# plot\n",
        "sns.boxplot(x='cluster_id', y='Recency', data=customer_history_df)"
      ]
    },
    {
      "cell_type": "code",
      "execution_count": null,
      "metadata": {
        "id": "a0rTsIwPzvf_"
      },
      "outputs": [],
      "source": [
        "# plot\n",
        "sns.boxplot(x='cluster_id', y='Monetary', data=customer_history_df)"
      ]
    },
    {
      "cell_type": "code",
      "execution_count": null,
      "metadata": {
        "id": "Yg5NFw13z4QC"
      },
      "outputs": [],
      "source": [
        "# plot\n",
        "sns.boxplot(x='cluster_id', y='Frequency', data=customer_history_df)"
      ]
    },
    {
      "cell_type": "markdown",
      "source": [
        "###ML Model - 2 - **Implementing Hierarchial Clustering**"
      ],
      "metadata": {
        "id": "dJ2tPlVmpsJ0"
      }
    },
    {
      "cell_type": "markdown",
      "source": [
        "**Hierarchical clustering is a clustering algorithm that creates a hierarchy of clusters by iteratively merging or splitting them based on their similarity. It starts with each data point as a separate cluster and combines clusters recursively until reaching a desired number or hierarchy. It does not require a predefined number of clusters.**"
      ],
      "metadata": {
        "id": "XqHftGmL-hUD"
      }
    },
    {
      "cell_type": "markdown",
      "metadata": {
        "id": "KSgQVT1D0Wt9"
      },
      "source": [
        "#### **Hierarchical Clustering**"
      ]
    },
    {
      "cell_type": "code",
      "execution_count": null,
      "metadata": {
        "id": "a6hCAwoRz-1w"
      },
      "outputs": [],
      "source": [
        "rfm_df_scaled.head()"
      ]
    },
    {
      "cell_type": "code",
      "execution_count": null,
      "metadata": {
        "id": "KeyrVOot1Qzq"
      },
      "outputs": [],
      "source": [
        "customer_history_df.head()"
      ]
    },
    {
      "cell_type": "code",
      "execution_count": null,
      "metadata": {
        "id": "G9-wK3US1VJ4"
      },
      "outputs": [],
      "source": [
        "#Generates a dendrogram visualization for the hierarchical clustering of the scaled RFM data.\n",
        "#Single Linkage:- it considers the minimum distance between any two points in different clusters\n",
        "import sys\n",
        "sys.setrecursionlimit(5000)\n",
        "\n",
        "plt.figure(figsize=(15,10))\n",
        "mergings = linkage(rfm_df_scaled, method=\"single\", metric='euclidean')\n",
        "dendrogram(mergings)\n",
        "plt.show()\n"
      ]
    },
    {
      "cell_type": "markdown",
      "source": [
        "###ML Model - 2 - **Implementing Hierarchial Clustering**"
      ],
      "metadata": {
        "id": "9e1lSrbcRzjT"
      }
    },
    {
      "cell_type": "markdown",
      "source": [
        "**Hierarchical clustering is a clustering algorithm that creates a hierarchy of clusters by iteratively merging or splitting them based on their similarity. It starts with each data point as a separate cluster and combines clusters recursively until reaching a desired number or hierarchy. It does not require a predefined number of clusters.**"
      ],
      "metadata": {
        "id": "VhEz-gmtRzjU"
      }
    },
    {
      "cell_type": "markdown",
      "metadata": {
        "id": "2N86CdpeRzjU"
      },
      "source": [
        "#### **Hierarchical Clustering**"
      ]
    },
    {
      "cell_type": "code",
      "execution_count": null,
      "metadata": {
        "id": "fDASS8lURzjU"
      },
      "outputs": [],
      "source": [
        "rfm_df_scaled.head()"
      ]
    },
    {
      "cell_type": "code",
      "execution_count": null,
      "metadata": {
        "id": "RPoWtBm0RzjV"
      },
      "outputs": [],
      "source": [
        "customer_history_df.head()"
      ]
    },
    {
      "cell_type": "code",
      "execution_count": null,
      "metadata": {
        "id": "1buFpBQPRzjW"
      },
      "outputs": [],
      "source": [
        "#Generates a dendrogram visualization for the hierarchical clustering of the scaled RFM data.\n",
        "#Single Linkage:- it considers the minimum distance between any two points in different clusters\n",
        "import sys\n",
        "sys.setrecursionlimit(5000)\n",
        "\n",
        "plt.figure(figsize=(15,10))\n",
        "mergings = linkage(rfm_df_scaled, method=\"single\", metric='euclidean')\n",
        "dendrogram(mergings)\n",
        "plt.show()\n"
      ]
    },
    {
      "cell_type": "code",
      "execution_count": null,
      "metadata": {
        "id": "Q3wmxedk6YaL"
      },
      "outputs": [],
      "source": [
        "#Generates a dendrogram visualization for hierarchical clustering\n",
        "#Complete Linkage:- it considers the maximum distance between any two points in different clusters. \n",
        "plt.figure(figsize=(15,10))\n",
        "mergings = linkage(rfm_df_scaled, method=\"complete\", metric='euclidean')\n",
        "dendrogram(mergings)\n",
        "plt.show()\n"
      ]
    },
    {
      "cell_type": "markdown",
      "metadata": {
        "id": "y3UMcRexLFJ7"
      },
      "source": [
        "**From the above dendogram plot, we can see the distribution of recency, frequency, and monetary metric values across the different clusters. So the 3 clusters seem to be separate from each other, which indicates a good heterogeneous mix of clusters.**\n",
        "\n"
      ]
    },
    {
      "cell_type": "code",
      "execution_count": null,
      "metadata": {
        "id": "4SovjdKeSHsC"
      },
      "outputs": [],
      "source": [
        "# 3 clusters\n",
        "cluster_labels = cut_tree(mergings, n_clusters=3).reshape(-1, )\n",
        "cluster_labels\n"
      ]
    },
    {
      "cell_type": "code",
      "execution_count": null,
      "metadata": {
        "id": "v0-4Tg_DSIRk"
      },
      "outputs": [],
      "source": [
        "# assign cluster labels\n",
        "customer_history_df['cluster_labels'] = cluster_labels\n",
        "customer_history_df.head(6)"
      ]
    },
    {
      "cell_type": "code",
      "execution_count": null,
      "metadata": {
        "id": "w_3CNt-lSSDZ"
      },
      "outputs": [],
      "source": [
        "# plots\n",
        "sns.boxplot(x='cluster_labels', y='Recency', data=customer_history_df)"
      ]
    },
    {
      "cell_type": "code",
      "execution_count": null,
      "metadata": {
        "id": "Hgimkb58SuQT"
      },
      "outputs": [],
      "source": [
        "# plots\n",
        "sns.boxplot(x='cluster_labels', y='Monetary', data=customer_history_df)"
      ]
    },
    {
      "cell_type": "code",
      "execution_count": null,
      "metadata": {
        "id": "IFvXP3zKS6TL"
      },
      "outputs": [],
      "source": [
        "# plots\n",
        "sns.boxplot(x='cluster_labels', y='Frequency', data=customer_history_df)\n"
      ]
    }
  ]
}